{
 "cells": [
  {
   "cell_type": "code",
   "execution_count": 9,
   "id": "beautiful-ordinary",
   "metadata": {},
   "outputs": [],
   "source": [
    "from datetime import datetime"
   ]
  },
  {
   "cell_type": "code",
   "execution_count": 2,
   "id": "nutritional-butterfly",
   "metadata": {},
   "outputs": [],
   "source": [
    "# Taking urls as input\n",
    "urls = []\n",
    "with open(\"text_files/input_links.txt\", \"r\") as f:\n",
    "    for line in f:\n",
    "        urls.append(line)"
   ]
  },
  {
   "cell_type": "code",
   "execution_count": null,
   "id": "selective-underwear",
   "metadata": {},
   "outputs": [],
   "source": [
    "headers = {'User-Agent':'Mozilla/5.0 (Windows NT 10.0; Win64; x64) AppleWebKit/537.36 (KHTML, like Gecko) Chrome/88.0.4324.190 Safari/537.36'}\n",
    "for url in urls:\n",
    "    # Getting the element containing the count\n",
    "    page = requests.get(url,headers=headers)\n",
    "    soup = BeautifulSoup(page.content, 'lxml')\n",
    "    x=soup.find(class_=\"jtv-title\")\n",
    "    \n",
    "    # Extracting the count from the element/string\n",
    "    y=str(x)\n",
    "    s=\"\"\n",
    "    i=y.find(\"</h2>\")\n",
    "    for c in y[i+30:]:\n",
    "        if(c=='<'):break\n",
    "        if(ord(c)<58 and ord(c)>47):s+=c\n",
    "    s=int(s)\n",
    "    \n",
    "    "
   ]
  },
  {
   "cell_type": "code",
   "execution_count": null,
   "id": "racial-transaction",
   "metadata": {},
   "outputs": [],
   "source": [
    "y=str(x)\n",
    "s=\"\"\n",
    "i=y.find(\"</h2>\")\n",
    "for c in y[i+30:]:\n",
    "    if(c=='<'):break\n",
    "    if(ord(c)<58 and ord(c)>47):s+=c\n",
    "s=int(s)"
   ]
  }
 ],
 "metadata": {
  "kernelspec": {
   "display_name": "Python 3",
   "language": "python",
   "name": "python3"
  },
  "language_info": {
   "codemirror_mode": {
    "name": "ipython",
    "version": 3
   },
   "file_extension": ".py",
   "mimetype": "text/x-python",
   "name": "python",
   "nbconvert_exporter": "python",
   "pygments_lexer": "ipython3",
   "version": "3.9.2"
  }
 },
 "nbformat": 4,
 "nbformat_minor": 5
}
