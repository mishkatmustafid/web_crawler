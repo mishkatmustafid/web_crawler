{
 "cells": [
  {
   "cell_type": "code",
   "execution_count": 1,
   "id": "another-testimony",
   "metadata": {},
   "outputs": [],
   "source": [
    "import requests\n",
    "from bs4 import BeautifulSoup\n",
    "import re\n",
    "import time\n",
    "headers = {'User-Agent':'Mozilla/5.0 (Windows NT 10.0; Win64; x64) AppleWebKit/537.36 (KHTML, like Gecko) Chrome/88.0.4324.190 Safari/537.36'}"
   ]
  },
  {
   "cell_type": "code",
   "execution_count": 2,
   "id": "possible-appointment",
   "metadata": {},
   "outputs": [],
   "source": [
    "urls = []\n",
    "# with open(\"text_files/test.txt\",\"r\") as inputf:\n",
    "#     for line in inputf:\n",
    "#         urls.append(line)\n",
    "urls.append(\"https://www.lawyersnjurists.com/articlecat/bank-and-financial-institutes/\")"
   ]
  },
  {
   "cell_type": "code",
   "execution_count": 3,
   "id": "liked-phoenix",
   "metadata": {},
   "outputs": [
    {
     "name": "stdout",
     "output_type": "stream",
     "text": [
      "['https://www.lawyersnjurists.com/articlecat/bank-and-financial-institutes/']\n"
     ]
    }
   ],
   "source": [
    "print(urls)"
   ]
  },
  {
   "cell_type": "code",
   "execution_count": null,
   "id": "static-front",
   "metadata": {},
   "outputs": [],
   "source": [
    "now = datetime.now()\n",
    "class timestamp:\n",
    "    def __init__(self):\n",
    "        \n",
    "    def now():\n",
    "    __str__:\n",
    "        return \"Hello\"\n",
    "print(now)"
   ]
  },
  {
   "cell_type": "code",
   "execution_count": null,
   "id": "eastern-delta",
   "metadata": {},
   "outputs": [],
   "source": [
    "with open('csv_files/articles.csv', 'w') as file:\n",
    "    writer = csv.writer(file)\n",
    "    writer.writerow([\"SN\",\"Title\", \"Content\"])\n",
    "    writer.writerow([1, x,y])"
   ]
  },
  {
   "cell_type": "code",
   "execution_count": 27,
   "id": "fifty-trauma",
   "metadata": {},
   "outputs": [
    {
     "name": "stdout",
     "output_type": "stream",
     "text": [
      "<div class=\"jtv-title\" style=\"padding-bottom:20px;\">\n",
      "<h2>Bank and financial institutes</h2>\n",
      "Showing 10 posts out of 674                <div class=\"devider-title\" style=\"margin-bottom:30px;\"><span>0</span></div>\n",
      "</div>\n"
     ]
    }
   ],
   "source": [
    "for url in urls:\n",
    "    page = requests.get(url,headers=headers)\n",
    "    soup = BeautifulSoup(page.content, 'lxml')\n",
    "    x=soup.find(class_=\"jtv-title\")\n",
    "    print(str(x))"
   ]
  },
  {
   "cell_type": "code",
   "execution_count": 3,
   "id": "abroad-translation",
   "metadata": {},
   "outputs": [
    {
     "name": "stdout",
     "output_type": "stream",
     "text": [
      "<ul class=\"service-list\">\n",
      "<li class=\"col-sm-12 col-md-12 col-lg-12\"><a href=\"https://www.lawyersnjurists.com/lawyer_ci/digest_category_chield/15557\">DLR</a></li>\n",
      "<li class=\"col-sm-12 col-md-12 col-lg-12\"><a href=\"https://www.lawyersnjurists.com/lawyer_ci/digest_category_chield/15558\">BLT</a></li>\n",
      "<li class=\"col-sm-12 col-md-12 col-lg-12\"><a href=\"https://www.lawyersnjurists.com/lawyer_ci/digest_category_chield/15559\">BLD</a></li>\n",
      "<li class=\"col-sm-12 col-md-12 col-lg-12\"><a href=\"https://www.lawyersnjurists.com/lawyer_ci/digest_category_chield/15560\">BLC</a></li>\n",
      "<li class=\"col-sm-12 col-md-12 col-lg-12\"><a href=\"https://www.lawyersnjurists.com/lawyer_ci/digest_category_chield/15561\">MLR</a></li>\n",
      "<li class=\"col-sm-12 col-md-12 col-lg-12\"><a href=\"https://www.lawyersnjurists.com/lawyer_ci/digest_category_chield/15716\">LNJ</a></li>\n",
      "<li class=\"col-sm-12 col-md-12 col-lg-12\"><a href=\"https://www.lawyersnjurists.com/lawyer_ci/digest_category_chield/15736\">ALR</a></li>\n",
      "<li class=\"col-sm-12 col-md-12 col-lg-12\"><a href=\"https://www.lawyersnjurists.com/lawyer_ci/digest_category_chield/15746\">ADC</a></li>\n",
      "</ul>\n"
     ]
    }
   ],
   "source": [
    "url=\"https://www.lawyersnjurists.com/lawyer_ci/digest_main_category\"\n",
    "page = requests.get(url,headers=headers)\n",
    "soup = BeautifulSoup(page.content, 'lxml')\n",
    "x=soup.find(class_=\"service-list\")\n",
    "print(str(x))"
   ]
  },
  {
   "cell_type": "code",
   "execution_count": 42,
   "id": "smart-plymouth",
   "metadata": {},
   "outputs": [
    {
     "name": "stdout",
     "output_type": "stream",
     "text": [
      "54\n",
      "<class 'int'>\n"
     ]
    }
   ],
   "source": [
    "y=str(x)\n",
    "s=\"\"\n",
    "i=y.find(\"</h2>\")\n",
    "print(ord(y[i+30]))\n",
    "for c in y[i+30:]:\n",
    "    if(c=='<'):break\n",
    "    if(ord(c)<58 and ord(c)>47):s+=c\n",
    "s=int(s)\n",
    "print(type(s))"
   ]
  },
  {
   "cell_type": "code",
   "execution_count": 12,
   "id": "friendly-algebra",
   "metadata": {},
   "outputs": [
    {
     "name": "stdout",
     "output_type": "stream",
     "text": [
      "\"\n"
     ]
    }
   ],
   "source": [
    "# url = \"https://www.lawyersnjurists.com/sitemap.xml\"\n",
    "# page=requests.get(url,headers=headers)\n",
    "file=open('sitemaps/post-sitemap.htm','r')\n",
    "page=file.read()\n",
    "s=\"\"\n",
    "ls=[]\n",
    "flag=False\n",
    "for i in page:\n",
    "    if(i=='\\\"'):flag= not flag\n",
    "    if(flag):\n",
    "        s+=i\n",
    "    \n",
    "# soup=BeautifulSoup(file.content,'xml')\n",
    "# print(soup)"
   ]
  },
  {
   "cell_type": "code",
   "execution_count": 67,
   "id": "modified-blink",
   "metadata": {},
   "outputs": [
    {
     "name": "stdout",
     "output_type": "stream",
     "text": [
      "1 Done\n",
      "2 Done\n",
      "3 Done\n"
     ]
    }
   ],
   "source": [
    "urls=[\n",
    "    \"https://www.lawyersnjurists.com/article-sitemap10.xml\",\n",
    "    \"https://www.lawyersnjurists.com/article-sitemap11.xml\",\n",
    "    \"https://www.lawyersnjurists.com/article-sitemap12.xml\"\n",
    "]\n",
    "c=0\n",
    "with open('text_files/sitemap_extract.txt','a',encoding='utf-8')as file:\n",
    "    for url in urls:\n",
    "        c+=1\n",
    "        print(c,end='')\n",
    "        page = requests.get(url,headers=headers)\n",
    "        soup = BeautifulSoup(page.content, 'xml')\n",
    "        x=soup.find_all('loc')\n",
    "        file.write(str(x)+'\\n')\n",
    "        print(\" Done\")\n",
    "        if(c==9):time.sleep(60)"
   ]
  },
  {
   "cell_type": "code",
   "execution_count": 66,
   "id": "nearby-poison",
   "metadata": {},
   "outputs": [
    {
     "name": "stdout",
     "output_type": "stream",
     "text": [
      "1024px-বাংলাদেশ_নির্\n"
     ]
    }
   ],
   "source": [
    "x=soup.find_all('loc')\n",
    "s=str(x)\n",
    "print(s[66990:67010])"
   ]
  },
  {
   "cell_type": "code",
   "execution_count": 54,
   "id": "private-demographic",
   "metadata": {},
   "outputs": [
    {
     "name": "stdout",
     "output_type": "stream",
     "text": [
      "2444\n"
     ]
    }
   ],
   "source": [
    "s=str(soup)\n",
    "i=0\n",
    "# while(i<len(s)):\n",
    "#     x=s[i:].find(\"https\")\n",
    "#     print(x)\n",
    "#     i+=x+5\n",
    "c=0\n",
    "for m in re.finditer('https',s):\n",
    "    c+=1\n",
    "print(c)"
   ]
  },
  {
   "cell_type": "code",
   "execution_count": 7,
   "id": "advance-schema",
   "metadata": {},
   "outputs": [],
   "source": [
    "# i=0\n",
    "# while(i<len(s)):\n",
    "#     print(i)\n",
    "#     i+=1\n",
    "filename=\"test.txt\"\n",
    "with open(\"text_files/\"+filename, 'w')as file:\n",
    "    file.write(\"this is the 2nd test\")"
   ]
  },
  {
   "cell_type": "code",
   "execution_count": null,
   "id": "literary-syracuse",
   "metadata": {},
   "outputs": [],
   "source": [
    "s=\"Done\"\n",
    "print(\"Done\")\n",
    "print(\"\\n\"+s,end='')\n",
    "from goto import goto, comefrom, label"
   ]
  },
  {
   "cell_type": "code",
   "execution_count": 13,
   "id": "surprised-height",
   "metadata": {},
   "outputs": [
    {
     "data": {
      "text/plain": [
       "<coroutine object main at 0x00000208BF185540>"
      ]
     },
     "execution_count": 13,
     "metadata": {},
     "output_type": "execute_result"
    }
   ],
   "source": [
    "async def func(x):\n",
    "    print(\"Starting \"+x+\"\\n\")\n",
    "    await asyncio.sleep(1)\n",
    "    print(\"Done \"+x)\n",
    "\n",
    "async def main():\n",
    "    x=input()\n",
    "    await func(x)\n",
    "    print(\"main\")\n",
    "main()"
   ]
  }
 ],
 "metadata": {
  "kernelspec": {
   "display_name": "Python 3",
   "language": "python",
   "name": "python3"
  },
  "language_info": {
   "codemirror_mode": {
    "name": "ipython",
    "version": 3
   },
   "file_extension": ".py",
   "mimetype": "text/x-python",
   "name": "python",
   "nbconvert_exporter": "python",
   "pygments_lexer": "ipython3",
   "version": "3.9.2"
  }
 },
 "nbformat": 4,
 "nbformat_minor": 5
}
