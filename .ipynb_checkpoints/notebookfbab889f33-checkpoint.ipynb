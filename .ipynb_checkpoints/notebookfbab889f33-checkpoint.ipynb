{
 "cells": [
  {
   "cell_type": "code",
   "execution_count": 1,
   "metadata": {},
   "outputs": [
    {
     "ename": "ModuleNotFoundError",
     "evalue": "No module named 'bs4'",
     "output_type": "error",
     "traceback": [
      "\u001b[1;31m---------------------------------------------------------------------------\u001b[0m",
      "\u001b[1;31mModuleNotFoundError\u001b[0m                       Traceback (most recent call last)",
      "\u001b[1;32m<ipython-input-1-900f8aa0ab9b>\u001b[0m in \u001b[0;36m<module>\u001b[1;34m\u001b[0m\n\u001b[1;32m----> 1\u001b[1;33m \u001b[1;32mfrom\u001b[0m \u001b[0mbs4\u001b[0m \u001b[1;32mimport\u001b[0m \u001b[0mBeautifulSoup\u001b[0m\u001b[1;33m\u001b[0m\u001b[1;33m\u001b[0m\u001b[0m\n\u001b[0m\u001b[0;32m      2\u001b[0m \u001b[1;32mimport\u001b[0m \u001b[0mrequests\u001b[0m\u001b[1;33m.\u001b[0m\u001b[0mexceptions\u001b[0m\u001b[1;33m\u001b[0m\u001b[1;33m\u001b[0m\u001b[0m\n\u001b[0;32m      3\u001b[0m \u001b[1;32mfrom\u001b[0m \u001b[0murllib\u001b[0m\u001b[1;33m.\u001b[0m\u001b[0mparse\u001b[0m \u001b[1;32mimport\u001b[0m \u001b[0murlsplit\u001b[0m\u001b[1;33m\u001b[0m\u001b[1;33m\u001b[0m\u001b[0m\n\u001b[0;32m      4\u001b[0m \u001b[1;32mfrom\u001b[0m \u001b[0murllib\u001b[0m\u001b[1;33m.\u001b[0m\u001b[0mparse\u001b[0m \u001b[1;32mimport\u001b[0m \u001b[0murlparse\u001b[0m\u001b[1;33m\u001b[0m\u001b[1;33m\u001b[0m\u001b[0m\n\u001b[0;32m      5\u001b[0m \u001b[1;32mfrom\u001b[0m \u001b[0mcollections\u001b[0m \u001b[1;32mimport\u001b[0m \u001b[0mdeque\u001b[0m\u001b[1;33m\u001b[0m\u001b[1;33m\u001b[0m\u001b[0m\n",
      "\u001b[1;31mModuleNotFoundError\u001b[0m: No module named 'bs4'"
     ]
    }
   ],
   "source": [
    "from bs4 import BeautifulSoup \n",
    "import requests.exceptions \n",
    "from urllib.parse import urlsplit \n",
    "from urllib.parse import urlparse \n",
    "from collections import deque\n",
    "import asyncio"
   ]
  },
  {
   "cell_type": "code",
   "execution_count": 2,
   "metadata": {},
   "outputs": [
    {
     "name": "stdout",
     "output_type": "stream",
     "text": [
      "Collecting bs4\n",
      "  Using cached bs4-0.0.1.tar.gz (1.1 kB)\n",
      "Collecting beautifulsoup4\n",
      "  Using cached beautifulsoup4-4.9.3-py3-none-any.whl (115 kB)\n",
      "Collecting soupsieve>1.2\n",
      "  Using cached soupsieve-2.2-py3-none-any.whl (33 kB)\n",
      "Building wheels for collected packages: bs4\n",
      "  Building wheel for bs4 (setup.py): started\n",
      "  Building wheel for bs4 (setup.py): finished with status 'done'\n",
      "  Created wheel for bs4: filename=bs4-0.0.1-py3-none-any.whl size=1277 sha256=8b530e54903ef5fc7b1dfc6655dc6863bef83f6d1fb2af32788ede4a4d8c6cda\n",
      "  Stored in directory: c:\\users\\alex\\appdata\\local\\pip\\cache\\wheels\\75\\78\\21\\68b124549c9bdc94f822c02fb9aa3578a669843f9767776bca\n",
      "Successfully built bs4\n",
      "Installing collected packages: soupsieve, beautifulsoup4, bs4\n",
      "Successfully installed beautifulsoup4-4.9.3 bs4-0.0.1 soupsieve-2.2\n",
      "Note: you may need to restart the kernel to use updated packages.\n"
     ]
    }
   ],
   "source": [
    "pip install bs4"
   ]
  },
  {
   "cell_type": "code",
   "execution_count": 2,
   "metadata": {},
   "outputs": [],
   "source": [
    "urls = [\"https://www.lawyersnjurists.com/articlecat/bank-and-financial-institutes/\",\n",
    "        \"https://www.lawyersnjurists.com/articlecat/business/\",\n",
    "        \"https://www.lawyersnjurists.com/articlecat/environment-and-geography/\",\n",
    "        \"https://www.lawyersnjurists.com/articlecat/garments-and-textile/\",\n",
    "        \"https://www.lawyersnjurists.com/articlecat/general-health-and-medical-science/\",\n",
    "        \"https://www.lawyersnjurists.com/articlecat/hotel-and-tourism/\",\n",
    "        \"https://www.lawyersnjurists.com/articlecat/human-resource-and-managment/\",\n",
    "        \"https://www.lawyersnjurists.com/articlecat/it-and-software/\",\n",
    "        \"https://www.lawyersnjurists.com/articlecat/law-and-ethics/\",\n",
    "        \"https://www.lawyersnjurists.com/articlecat/real-estate/\",\n",
    "        \"https://www.lawyersnjurists.com/articlecat/reports-on-ngo/\",\n",
    "        \"https://www.lawyersnjurists.com/articlecat/science-and-technology/\",\n",
    "        \"https://www.lawyersnjurists.com/articlecat/social-and-political-science/\",\n",
    "        \"https://www.lawyersnjurists.com/articlecat/telecommunication/\",\n",
    "        \"https://www.lawyersnjurists.com/articles-and-reports\"]\n",
    "headers = {'User-Agent':'Mozilla/5.0 (Windows NT 10.0; Win64; x64) AppleWebKit/537.36 (KHTML, like Gecko) Chrome/88.0.4324.190 Safari/537.36'}\n",
    "# url = \"https://www.lawyersnjurists.com/\"\n",
    "\n",
    "# a queue of urls to be crawled next\n",
    "new_urls = deque(urls)\n",
    "\n",
    "# a set of urls that we have already processed\n",
    "processed_urls = set()\n",
    "\n",
    "# a set of domains inside the target website\n",
    "local_urls = set()\n",
    "\n",
    "# a set of domains outside the target website\n",
    "foreign_urls = set()\n",
    "\n",
    "# a set of broken urls\n",
    "broken_urls = set()"
   ]
  },
  {
   "cell_type": "code",
   "execution_count": null,
   "metadata": {
    "scrolled": true
   },
   "outputs": [
    {
     "name": "stdout",
     "output_type": "stream",
     "text": [
      "https://www.lawyersnjurists.com/articlecat/bank-and-financial-institutes/\n",
      "https://www.lawyersnjurists.com/articlecat/business/\n",
      "https://www.lawyersnjurists.com/articlecat/environment-and-geography/\n",
      "https://www.lawyersnjurists.com/articlecat/garments-and-textile/\n",
      "https://www.lawyersnjurists.com/articlecat/general-health-and-medical-science/\n",
      "https://www.lawyersnjurists.com/articlecat/hotel-and-tourism/\n",
      "https://www.lawyersnjurists.com/articlecat/human-resource-and-managment/\n",
      "https://www.lawyersnjurists.com/articlecat/it-and-software/\n",
      "https://www.lawyersnjurists.com/articlecat/law-and-ethics/\n",
      "https://www.lawyersnjurists.com/articlecat/real-estate/\n",
      "https://www.lawyersnjurists.com/articlecat/reports-on-ngo/\n",
      "https://www.lawyersnjurists.com/articlecat/science-and-technology/\n",
      "https://www.lawyersnjurists.com/articlecat/social-and-political-science/\n",
      "https://www.lawyersnjurists.com/articlecat/telecommunication/\n",
      "https://www.lawyersnjurists.com/articles-and-reports\n",
      "https://www.lawyersnjurists.com/article/cost-volume-profit-analysis/\n",
      "https://www.lawyersnjurists.com/articlecat/bank-and-financial-institutes/page/2/\n",
      "https://www.lawyersnjurists.com/article/distribution-channel-of-king-brand-cement-2/\n",
      "https://www.lawyersnjurists.com/our-services/\n",
      "https://www.lawyersnjurists.com/article/impact-of-psd2-on-the-banking-industry/\n",
      "https://www.lawyersnjurists.com/article/what-is-psd2/\n",
      "https://www.lawyersnjurists.com/lawyer_ci/case_search\n",
      "https://www.lawyersnjurists.com/articles-and-reports/\n",
      "http://www.lawyersnjurists.com/lawyer_ci/case_search\n",
      "https://www.lawyersnjurists.com/our-lawyers/\n",
      "https://www.lawyersnjurists.com/internship/\n",
      "https://www.lawyersnjurists.com/our-clients/\n",
      "https://www.lawyersnjurists.com/article/impact-of-psd2/\n",
      "https://www.lawyersnjurists.com/article/bank-reserves-part-1/\n",
      "https://www.lawyersnjurists.com/legal-courses/\n",
      "https://www.lawyersnjurists.com/gallery/\n",
      "https://www.lawyersnjurists.com/videos/\n",
      "https://www.lawyersnjurists.com/\n",
      "https://www.lawyersnjurists.com/articlecat/bank-and-financial-institutes/#\n",
      "https://www.lawyersnjurists.com/article/origin-and-development-of-international-law-after-9-11/\n",
      "https://www.lawyersnjurists.com/inhouse-lawyer/\n",
      "https://www.lawyersnjurists.com/article/bangladesh-bank-2/\n",
      "https://www.lawyersnjurists.com/contact-us/\n",
      "https://www.lawyersnjurists.com/disclaimer/\n",
      "https://www.lawyersnjurists.com/find-books/\n",
      "https://www.lawyersnjurists.com/conventions-treaties/\n",
      "http://www.lawyersnjurists.com/webmail\n",
      "https://www.lawyersnjurists.com/article/monograph-on-muslim-family-law/\n",
      "https://www.lawyersnjurists.com/article/client-counseling-for-lawyers-2/\n",
      "https://www.lawyersnjurists.com/article/definition-of-psd2/\n",
      "https://www.lawyersnjurists.com/about-us/\n",
      "https://www.lawyersnjurists.com/article/critique-on-death-penalty-in-bangladesh-perspective/\n",
      "https://www.lawyersnjurists.com/article/bangladesh-budget-2010-2011-its-impact-on-capital-market/\n",
      "https://www.lawyersnjurists.com/article/performance-of-contract-2/\n",
      "https://www.lawyersnjurists.com/setup-business-in-bangladesh/\n",
      "https://www.lawyersnjurists.com/articlecat/bank-and-financial-institutes/page/68/\n",
      "https://www.lawyersnjurists.com\n",
      "https://www.lawyersnjurists.com/article/consideration/\n",
      "https://www.lawyersnjurists.com/article/bank-reserves-part-2/\n",
      "https://www.lawyersnjurists.com/article/stock-exchange/\n",
      "https://www.lawyersnjurists.com/article/compliance-government-policy-by-readymade-garments-of-bangladesh/\n"
     ]
    }
   ],
   "source": [
    "# process urls one by one until we exhaust the queue\n",
    "while len(new_urls):\n",
    "    # move url from the queue to processed url set\n",
    "    url = new_urls.popleft()\n",
    "    processed_urls.add(url)\n",
    "#     if \"webmail\" in url or \"2095\" in url or \"2096\" in url:\n",
    "#         continue\n",
    "    # print the current url\n",
    "    print(url)\n",
    "    \n",
    "    # catching any broken web pages and add them to the broken_urls set for later use\n",
    "    try: \n",
    "        response = requests.get(url,headers=headers)\n",
    "    except(requests.exceptions.MissingSchema, requests.exceptions.ConnectionError, requests.exceptions.InvalidSchema, requests.exceptions.InvalidURL):\n",
    "        # add broken urls to it's own set, then continue\n",
    "        broken_urls.add(url)\n",
    "        continue\n",
    "        \n",
    "        \n",
    "    # extract base urlto resolve relative links\n",
    "    parts = urlsplit(url)\n",
    "    base = \"{0.netloc}\".format(parts)\n",
    "    strip_base = base.replace(\"www.\",\"\")\n",
    "    base_url = \"{0.scheme}://{0.netloc}\".format(parts)\n",
    "    path = url[:url.rfind('/')+1] if '/' in parts.path else url\n",
    "    \n",
    "    \n",
    "    soup = BeautifulSoup(response.text, \"lxml\")\n",
    "    for link in soup.find_all('a'):\n",
    "        # extract link url from the anchor\n",
    "        anchor = link.attrs[\"href\"] if \"href\" in link.attrs else ''\n",
    "        if anchor.startswith('/'):\n",
    "            local_link = base_url + anchor\n",
    "            local_urls.add(local_link)\n",
    "        elif strip_base in anchor:\n",
    "            local_urls.add(anchor)\n",
    "        elif not anchor.startswith('http'):\n",
    "            local_link = path + anchor\n",
    "            local_urls.add(local_link)\n",
    "        else: foreign_urls.add(anchor)\n",
    "    \n",
    "    \n",
    "    for i in local_urls:\n",
    "        if not i in new_urls and not i in processed_urls and \"webmail\" not in i or \"2095\" not in i or \"2096\" not in i:\n",
    "            new_urls.append(i)"
   ]
  },
  {
   "cell_type": "code",
   "execution_count": null,
   "metadata": {},
   "outputs": [],
   "source": [
    "article_urls=[]\n",
    "for i in processed_urls:\n",
    "    if \"https://www.lawyersnjurists.com/lawyer_ci/\" in i:\n",
    "        article_urls.append(i)\n",
    "for i in article_urls:\n",
    "    print(i)"
   ]
  },
  {
   "cell_type": "code",
   "execution_count": null,
   "metadata": {},
   "outputs": [],
   "source": [
    "with open('links_final.txt','w') as f:\n",
    "    for item in processed_urls:\n",
    "        f.write(\"%s\\n\" % item)"
   ]
  },
  {
   "cell_type": "code",
   "execution_count": null,
   "metadata": {},
   "outputs": [],
   "source": [
    "url = new_urls.popleft()\n",
    "print(url)\n",
    "print(type(url))"
   ]
  }
 ],
 "metadata": {
  "kernelspec": {
   "display_name": "Python 3",
   "language": "python",
   "name": "python3"
  },
  "language_info": {
   "codemirror_mode": {
    "name": "ipython",
    "version": 3
   },
   "file_extension": ".py",
   "mimetype": "text/x-python",
   "name": "python",
   "nbconvert_exporter": "python",
   "pygments_lexer": "ipython3",
   "version": "3.8.5"
  }
 },
 "nbformat": 4,
 "nbformat_minor": 4
}
