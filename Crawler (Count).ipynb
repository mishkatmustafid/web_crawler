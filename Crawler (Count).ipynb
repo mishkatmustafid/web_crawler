{
 "cells": [
  {
   "cell_type": "code",
   "execution_count": null,
   "id": "nutritional-butterfly",
   "metadata": {},
   "outputs": [],
   "source": [
    "urls = [\"https://www.lawyersnjurists.com/articlecat/bank-and-financial-institutes/\",\n",
    "        \"https://www.lawyersnjurists.com/articlecat/business/\",\n",
    "        \"https://www.lawyersnjurists.com/articlecat/environment-and-geography/\",\n",
    "        \"https://www.lawyersnjurists.com/articlecat/garments-and-textile/\",\n",
    "        \"https://www.lawyersnjurists.com/articlecat/general-health-and-medical-science/\",\n",
    "        \"https://www.lawyersnjurists.com/articlecat/hotel-and-tourism/\",\n",
    "        \"https://www.lawyersnjurists.com/articlecat/human-resource-and-managment/\",\n",
    "        \"https://www.lawyersnjurists.com/articlecat/it-and-software/\",\n",
    "        \"https://www.lawyersnjurists.com/articlecat/law-and-ethics/\",\n",
    "        \"https://www.lawyersnjurists.com/articlecat/real-estate/\",\n",
    "        \"https://www.lawyersnjurists.com/articlecat/reports-on-ngo/\",\n",
    "        \"https://www.lawyersnjurists.com/articlecat/science-and-technology/\",\n",
    "        \"https://www.lawyersnjurists.com/articlecat/social-and-political-science/\",\n",
    "        \"https://www.lawyersnjurists.com/articlecat/telecommunication/\",\n",
    "        \"https://www.lawyersnjurists.com/articlecat/others/\",\n",
    "        \"https://www.lawyersnjurists.com/doclitcat/documentation/\",\n",
    "        \"https://www.lawyersnjurists.com/doclitcat/legal-opinion/\",\n",
    "        \"https://www.lawyersnjurists.com/doclitcat/litigation/\",\n",
    "        \"https://www.lawyersnjurists.com/coursecat/bar-vocational-course/\",\n",
    "        \"https://www.lawyersnjurists.com/coursecat/coaching-for-bar-council/\",\n",
    "        \"https://www.lawyersnjurists.com/coursecat/courses-offered/\",\n",
    "        \"https://www.lawyersnjurists.com/metarialcat/business-ethics/\"]"
   ]
  }
 ],
 "metadata": {
  "kernelspec": {
   "display_name": "Python 3",
   "language": "python",
   "name": "python3"
  },
  "language_info": {
   "codemirror_mode": {
    "name": "ipython",
    "version": 3
   },
   "file_extension": ".py",
   "mimetype": "text/x-python",
   "name": "python",
   "nbconvert_exporter": "python",
   "pygments_lexer": "ipython3",
   "version": "3.9.2"
  }
 },
 "nbformat": 4,
 "nbformat_minor": 5
}
