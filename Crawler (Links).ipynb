{
 "cells": [
  {
   "cell_type": "code",
   "execution_count": 1,
   "id": "arctic-budapest",
   "metadata": {},
   "outputs": [],
   "source": [
    "from bs4 import BeautifulSoup \n",
    "import time\n",
    "import requests.exceptions \n",
    "from urllib.parse import urlsplit \n",
    "from urllib.parse import urlparse \n",
    "from collections import deque"
   ]
  },
  {
   "cell_type": "code",
   "execution_count": 3,
   "id": "geological-playing",
   "metadata": {},
   "outputs": [],
   "source": [
    "urls = [\"https://www.lawyersnjurists.com/articlecat/bank-and-financial-institutes/\",\n",
    "        \"https://www.lawyersnjurists.com/articlecat/business/\",\n",
    "        \"https://www.lawyersnjurists.com/articlecat/environment-and-geography/\",\n",
    "        \"https://www.lawyersnjurists.com/articlecat/garments-and-textile/\",\n",
    "        \"https://www.lawyersnjurists.com/articlecat/general-health-and-medical-science/\",\n",
    "        \"https://www.lawyersnjurists.com/articlecat/hotel-and-tourism/\",\n",
    "        \"https://www.lawyersnjurists.com/articlecat/human-resource-and-managment/\",\n",
    "        \"https://www.lawyersnjurists.com/articlecat/it-and-software/\",\n",
    "        \"https://www.lawyersnjurists.com/articlecat/law-and-ethics/\",\n",
    "        \"https://www.lawyersnjurists.com/articlecat/real-estate/\",\n",
    "        \"https://www.lawyersnjurists.com/articlecat/reports-on-ngo/\",\n",
    "        \"https://www.lawyersnjurists.com/articlecat/science-and-technology/\",\n",
    "        \"https://www.lawyersnjurists.com/articlecat/social-and-political-science/\",\n",
    "        \"https://www.lawyersnjurists.com/articlecat/telecommunication/\",\n",
    "        \"https://www.lawyersnjurists.com/articles-and-reports\"]\n",
    "headers = {'User-Agent':'Mozilla/5.0 (Windows NT 10.0; Win64; x64) AppleWebKit/537.36 (KHTML, like Gecko) Chrome/89.0.4389.90 Safari/537.36'}\n",
    "# url = \"https://www.lawyersnjurists.com/\"\n",
    "\n",
    "# a queue of urls to be crawled next\n",
    "new_urls = deque(urls)\n",
    "\n",
    "# a set of urls that we have already processed\n",
    "processed_urls = set()\n",
    "\n",
    "# a set of domains inside the target website\n",
    "local_urls = set()\n",
    "\n",
    "# a set of domains outside the target website\n",
    "foreign_urls = set()\n",
    "\n",
    "# a set of broken urls\n",
    "broken_urls = set()"
   ]
  },
  {
   "cell_type": "code",
   "execution_count": 3,
   "id": "bright-subject",
   "metadata": {},
   "outputs": [],
   "source": [
    "with open(\"text_files/processed_urls.txt\",\"r\") as inputf:\n",
    "    for line in inputf:\n",
    "        processed_urls.add(line)"
   ]
  },
  {
   "cell_type": "code",
   "execution_count": 4,
   "id": "orange-museum",
   "metadata": {},
   "outputs": [],
   "source": [
    "with open(\"text_files/useful_links.txt\",\"r\") as inputf:\n",
    "    for line in inputf:\n",
    "        new_urls.append(line)"
   ]
  },
  {
   "cell_type": "code",
   "execution_count": 5,
   "id": "female-company",
   "metadata": {
    "scrolled": true
   },
   "outputs": [
    {
     "name": "stdout",
     "output_type": "stream",
     "text": [
      "https://www.lawyersnjurists.com/articlecat/bank-and-financial-institutes/\n"
     ]
    },
    {
     "ename": "KeyboardInterrupt",
     "evalue": "",
     "output_type": "error",
     "traceback": [
      "\u001b[1;31m---------------------------------------------------------------------------\u001b[0m",
      "\u001b[1;31mKeyboardInterrupt\u001b[0m                         Traceback (most recent call last)",
      "\u001b[1;32m<ipython-input-5-5a26608f8556>\u001b[0m in \u001b[0;36m<module>\u001b[1;34m\u001b[0m\n\u001b[0;32m     19\u001b[0m         \u001b[1;31m# print the current url\u001b[0m\u001b[1;33m\u001b[0m\u001b[1;33m\u001b[0m\u001b[1;33m\u001b[0m\u001b[0m\n\u001b[0;32m     20\u001b[0m         \u001b[0mprint\u001b[0m\u001b[1;33m(\u001b[0m\u001b[0murl\u001b[0m\u001b[1;33m)\u001b[0m\u001b[1;33m\u001b[0m\u001b[1;33m\u001b[0m\u001b[0m\n\u001b[1;32m---> 21\u001b[1;33m         \u001b[1;32mif\u001b[0m\u001b[1;33m(\u001b[0m\u001b[0mc\u001b[0m\u001b[1;33m%\u001b[0m\u001b[1;36m10\u001b[0m\u001b[1;33m==\u001b[0m\u001b[1;36m0\u001b[0m\u001b[1;33m)\u001b[0m\u001b[1;33m:\u001b[0m\u001b[0mtime\u001b[0m\u001b[1;33m.\u001b[0m\u001b[0msleep\u001b[0m\u001b[1;33m(\u001b[0m\u001b[1;36m31\u001b[0m\u001b[1;33m)\u001b[0m\u001b[1;33m\u001b[0m\u001b[1;33m\u001b[0m\u001b[0m\n\u001b[0m\u001b[0;32m     22\u001b[0m         \u001b[1;31m# catching any broken web pages and add them to the broken_urls set for later use\u001b[0m\u001b[1;33m\u001b[0m\u001b[1;33m\u001b[0m\u001b[1;33m\u001b[0m\u001b[0m\n\u001b[0;32m     23\u001b[0m         \u001b[1;32mtry\u001b[0m\u001b[1;33m:\u001b[0m\u001b[1;33m\u001b[0m\u001b[1;33m\u001b[0m\u001b[0m\n",
      "\u001b[1;31mKeyboardInterrupt\u001b[0m: "
     ]
    }
   ],
   "source": [
    "# solving anti-flood issues using async function that requests at max 10 pages per minute\n",
    "# async def geturl(url):\n",
    "#     try: \n",
    "#         response = requests.get(url,headers=headers)\n",
    "#     except(requests.exceptions.MissingSchema, requests.exceptions.ConnectionError, requests.exceptions.InvalidSchema):\n",
    "#         # add broken urls to it's own set, then continue\n",
    "#         broken_urls.add(url)\n",
    "#         return \"-1\"\n",
    "#     return response\n",
    "c=-1\n",
    "# process urls one by one until we exhaust the queue\n",
    "with open('text_files/processed_links.txt','a') as file:\n",
    "    while len(new_urls):\n",
    "        c+=1\n",
    "        # move url from the queue to processed url set\n",
    "        url = new_urls.popleft()\n",
    "        file.write(url)\n",
    "        processed_urls.add(url)\n",
    "        # print the current url\n",
    "        print(url)\n",
    "        if(c%10==0):time.sleep(31)\n",
    "        # catching any broken web pages and add them to the broken_urls set for later use\n",
    "        try: \n",
    "            response = requests.get(url,headers=headers,timeout=10)\n",
    "        except(requests.exceptions.MissingSchema, requests.exceptins.ConnectionError, requests.exceptions.InvalidSchema, requests.exceptions.InvalidURL):\n",
    "            # add broken urls to it's own set, then continue\n",
    "            broken_urls.add(url)\n",
    "            continue\n",
    "\n",
    "    #     response = geturl(url)\n",
    "    #     if(response==\"-1\"):continue\n",
    "\n",
    "        # extract base urlto resolve relative links\n",
    "        parts = urlsplit(url)\n",
    "        base = \"{0.netloc}\".format(parts)\n",
    "        strip_base = base.replace(\"www.\",\"\")\n",
    "        base_url = \"{0.scheme}://{0.netloc}\".format(parts)\n",
    "        path = url[:url.rfind('/')+1] if '/' in parts.path else url\n",
    "\n",
    "\n",
    "        soup = BeautifulSoup(response.text, \"lxml\")\n",
    "        for link in soup.find_all('a'):\n",
    "            # extract link url from the anchor\n",
    "            anchor = link.attrs[\"href\"] if \"href\" in link.attrs else ''\n",
    "            if anchor.startswith('/'):\n",
    "                local_link = base_url + anchor\n",
    "                local_urls.add(local_link)\n",
    "            elif strip_base in anchor:\n",
    "                local_urls.add(anchor)\n",
    "            elif not anchor.startswith('http'):\n",
    "                local_link = path + anchor\n",
    "                local_urls.add(local_link)\n",
    "            else: foreign_urls.add(anchor)\n",
    "\n",
    "\n",
    "        for i in local_urls:\n",
    "            if not i in new_urls and not i in processed_urls and \"webmail\" not in i or \"2095\" not in i or \"2096\" not in i:\n",
    "                new_urls.append(i)"
   ]
  },
  {
   "cell_type": "code",
   "execution_count": null,
   "id": "affiliated-present",
   "metadata": {},
   "outputs": [],
   "source": [
    "article_urls=[]\n",
    "for i in processed_urls:\n",
    "    if \"https://www.lawyersnjurists.com/article/\" in i:\n",
    "        article_urls.append(i)\n",
    "for i in article_urls:\n",
    "    print(i)"
   ]
  },
  {
   "cell_type": "code",
   "execution_count": null,
   "id": "seventh-bridges",
   "metadata": {},
   "outputs": [],
   "source": [
    "with open('text_files/links_final.txt','w') as f:\n",
    "    for item in processed_urls:\n",
    "        f.write(\"%s\\n\" % item)"
   ]
  },
  {
   "cell_type": "code",
   "execution_count": null,
   "id": "based-joint",
   "metadata": {},
   "outputs": [],
   "source": [
    "url = new_urls.popleft()\n",
    "print(url)\n",
    "print(type(url))"
   ]
  }
 ],
 "metadata": {
  "kernelspec": {
   "display_name": "Python 3",
   "language": "python",
   "name": "python3"
  },
  "language_info": {
   "codemirror_mode": {
    "name": "ipython",
    "version": 3
   },
   "file_extension": ".py",
   "mimetype": "text/x-python",
   "name": "python",
   "nbconvert_exporter": "python",
   "pygments_lexer": "ipython3",
   "version": "3.9.2"
  }
 },
 "nbformat": 4,
 "nbformat_minor": 5
}
