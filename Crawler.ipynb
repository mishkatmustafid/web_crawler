{
 "cells": [
  {
   "cell_type": "code",
   "execution_count": 1,
   "id": "noble-conditioning",
   "metadata": {},
   "outputs": [],
   "source": [
    "import requests\n",
    "from bs4 import BeautifulSoup"
   ]
  },
  {
   "cell_type": "code",
   "execution_count": 5,
   "id": "grand-following",
   "metadata": {},
   "outputs": [],
   "source": [
    "headers = {'User-Agent':'Mozilla/5.0 (Windows NT 10.0; Win64; x64) AppleWebKit/537.36 (KHTML, like Gecko) Chrome/88.0.4324.190 Safari/537.36'}\n",
    "page = requests.get(\"https://www.lawyersnjurists.com/doclitcat/documentation/dissolution/\",headers=headers)\n",
    "soup = BeautifulSoup(page.content, 'html.parser')"
   ]
  },
  {
   "cell_type": "code",
   "execution_count": 4,
   "id": "bizarre-fitness",
   "metadata": {
    "scrolled": true
   },
   "outputs": [
    {
     "name": "stdout",
     "output_type": "stream",
     "text": [
      "<body>\n",
      "<h1>Forbidden</h1>\n",
      "<p>You don't have permission to access this resource.</p>\n",
      "<p>Additionally, a 403 Forbidden\n",
      "error was encountered while trying to use an ErrorDocument to handle the request.</p>\n",
      "</body>\n"
     ]
    }
   ],
   "source": [
    "print(soup.body)"
   ]
  },
  {
   "cell_type": "code",
   "execution_count": null,
   "id": "chief-fabric",
   "metadata": {},
   "outputs": [],
   "source": [
    "f = open(\"firstarticle.html\",\"w\")\n",
    "f.write(str(soup.body))"
   ]
  },
  {
   "cell_type": "code",
   "execution_count": null,
   "id": "welsh-irrigation",
   "metadata": {},
   "outputs": [],
   "source": [
    "file = open(\"article.txt\",\"r\")\n",
    "urls=[]\n",
    "urls.append(file.readline)"
   ]
  }
 ],
 "metadata": {
  "kernelspec": {
   "display_name": "Python 3",
   "language": "python",
   "name": "python3"
  },
  "language_info": {
   "codemirror_mode": {
    "name": "ipython",
    "version": 3
   },
   "file_extension": ".py",
   "mimetype": "text/x-python",
   "name": "python",
   "nbconvert_exporter": "python",
   "pygments_lexer": "ipython3",
   "version": "3.9.2"
  }
 },
 "nbformat": 4,
 "nbformat_minor": 5
}
