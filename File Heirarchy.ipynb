{
 "cells": [
  {
   "cell_type": "code",
   "execution_count": null,
   "id": "civil-departure",
   "metadata": {},
   "outputs": [],
   "source": [
    "import requests, time, csv, webbrowser\n",
    "from bs4 import BeautifulSoup\n",
    "from datetime import datetime,date\n",
    "headers = {'User-Agent':'Mozilla/5.0 (Windows NT 10.0; Win64; x64) AppleWebKit/537.36 (KHTML, like Gecko) Chrome/89.0.4389.90 Safari/537.36'}"
   ]
  },
  {
   "cell_type": "code",
   "execution_count": null,
   "metadata": {},
   "outputs": [],
   "source": [
    "invalid=['<','>','*','\\\\','/',':','?','\\\"','|']"
   ]
  },
  {
   "cell_type": "code",
   "execution_count": null,
   "metadata": {
    "tags": [
     "outputPrepend"
    ]
   },
   "outputs": [],
   "source": [
    "title=\"\"\n",
    "for loc in journals:\n",
    "    with open('lawyer_ci/'+loc+'/files.txt','r',encoding='utf-8') as file:\n",
    "        for line in file:\n",
    "            if('h2' in line):\n",
    "                x=line.find('>')+1\n",
    "                y=line.find('</h2>')\n",
    "                title=line[x:y].strip()\n",
    "                for i in invalid:\n",
    "                    title=title.replace(i,'')\n",
    "            else:\n",
    "                content=str(line)\n",
    "                print(title)\n",
    "                with open('lawyer_ci/'+loc+'/html/'+title+'.html','w',encoding='utf-8') as outfile:\n",
    "                    outfile.write(\"<h2 class=\\\"blog_entry-title\\\">\"+title+\"</h2>\")\n",
    "                    outfile.write(content)"
   ]
  },
  {
   "cell_type": "code",
   "execution_count": null,
   "metadata": {},
   "outputs": [],
   "source": [
    "digest=[\n",
    "        \"Digest/ADC/ADC Civil & Criminal Reference Volume VI-X\",\n",
    "        \"Digest/ADC/ADC Civil & Criminal Reference Volume. I To V\",\n",
    "        \"Digest/ALR/ALR'S UP-TO-DATE CRIMINAL REFERENCE (2012-2015)\",\n",
    "        \"Digest/BLC/BLC Criminal Reference 1996-2000\",\n",
    "        \"BLC/BLC Criminal Reference 2006-2012\",\n",
    "        \"BLC/Civil Reference (2001-2005)\",\n",
    "        \"BLC/Civil Reference (2006-2012)\",\n",
    "        \"BLC/Criminal Reference (1996-2000)\",\n",
    "        \"BLD/BLD’s Ten-Years Civil Digest (1993-2002)\",\n",
    "        \"BLD/BLD'S 8-Years Criminal Digest (1993-2000)\",\n",
    "        \"BLD/BLD's 12-Years Civil Digest (1981-1992)\",\n",
    "        \"BLD/BLD's 12-Years Criminal Digest (1981-1992)\",\n",
    "        \"BLT/BLT’s 16-Year’s Civil Law Digest (1993-2008)\",\n",
    "        \"BLT/BLT's 5 Year's Civil Law Digest (2009-2013)\",\n",
    "        \"BLT/BLT's 15 Year's Criminal Law Digest (1993-2007)\",\n",
    "        \"BLT/BLT's Civil Law Digest (1993-1999)\",\n",
    "        \"BLT/BLT's civil law digest 2000-2003\",\n",
    "        \"DLR/DLR' s 40-year Criminal Digest - Part I (1949-1988)\",\n",
    "        \"DLR/DLR’s Criminal Reference 1994-1999\",\n",
    "        \"DLR/DLR's 20-Year Civil Digest (1985-2004)\",\n",
    "        \"DLR/DLR's 24 Year Criminal Digest 1988-2011\",\n",
    "        \"DLR/DLR's 36-Year Civil Digest (1949-1984) Part-III\",\n",
    "        \"DLR/DLR's 40 Year Criminal Digest - Part II (1949-1988)\",\n",
    "        \"DLR/DLR's Criminal Reference (1988-1993)\",\n",
    "        \"LNJ/LNJ 5 Year Civil & Criminal Digest (2012-2016)\",\n",
    "        \"MLR/Five Years MLR Civil Reference (1996-2000)\",\n",
    "        \"MLR/Five Years MLR Civil Reference 2006-2010\",\n",
    "        \"MLR/Five Years MLR Criminal Reference (1996-2000)\",\n",
    "        \"MLR/MLR Criminal Reference (2001-2005)\",\n",
    "        \"MLR/MLR Criminal Refrerence 2006-2010\"\n",
    "        ]"
   ]
  },
  {
   "cell_type": "code",
   "execution_count": null,
   "metadata": {},
   "outputs": [],
   "source": [
    "laws=[\n",
    "    \"Laws of Bangladesh/1800-1912\",\n",
    "    \"Laws of Bangladesh/1913-1929\",\n",
    "    \"Laws of Bangladesh/1930-1942\",\n",
    "    \"Laws of Bangladesh/1943-1956\",\n",
    "    \"Laws of Bangladesh/1957-1960\",\n",
    "    \"Laws of Bangladesh/1961-1965\",\n",
    "    \"Laws of Bangladesh/1966-1970\",\n",
    "    \"Laws of Bangladesh/1971-1975\",\n",
    "    \"Laws of Bangladesh/1976-1980\",\n",
    "    \"Laws of Bangladesh/1981-1985\",\n",
    "    \"Laws of Bangladesh/1986-1990\",\n",
    "    \"Laws of Bangladesh/1991-2011\"\n",
    "]"
   ]
  },
  {
   "cell_type": "code",
   "execution_count": null,
   "metadata": {},
   "outputs": [],
   "source": [
    "journals=[\n",
    "    \"Monthly Journals/2012/March\",\n",
    "    \"Monthly Journals/2012/April\",\n",
    "    \"Monthly Journals/2012/June\",\n",
    "    \"Monthly Journals/2012/July\",\n",
    "    \"Monthly Journals/2012/August\",\n",
    "    \"Monthly Journals/2012/September\",\n",
    "    \"Monthly Journals/2012/October\",\n",
    "    \"Monthly Journals/2012/November\",\n",
    "    \"Monthly Journals/2012/December\",\n",
    "    \"Monthly Journals/2013/January\",\n",
    "    \"Monthly Journals/2013/February\",\n",
    "    \"Monthly Journals/2013/March\",\n",
    "    \"Monthly Journals/2013/April\",\n",
    "    \"Monthly Journals/2013/May\",\n",
    "    \"Monthly Journals/2013/June\",\n",
    "    \"Monthly Journals/2013/July\",\n",
    "    \"Monthly Journals/2013/August\",\n",
    "    \"Monthly Journals/2013/September\",\n",
    "    \"Monthly Journals/2013/October\",\n",
    "    \"Monthly Journals/2013/November\",\n",
    "    \"Monthly Journals/2013/December\",\n",
    "    \"Monthly Journals/2014/January\",\n",
    "    \"Monthly Journals/2014/February\",\n",
    "    \"Monthly Journals/2014/March\",\n",
    "    \"Monthly Journals/2014/April\",\n",
    "    \"Monthly Journals/2014/May\",\n",
    "    \"Monthly Journals/2014/June\",\n",
    "    \"Monthly Journals/2014/July\",\n",
    "    \"Monthly Journals/2014/August\",\n",
    "    \"Monthly Journals/2014/September\",\n",
    "    \"Monthly Journals/2014/October\",\n",
    "    \"Monthly Journals/2014/November\",\n",
    "    \"Monthly Journals/2014/December\",\n",
    "    \"Monthly Journals/2015/January\",\n",
    "    \"Monthly Journals/2015/February\",\n",
    "    \"Monthly Journals/2015/March\",\n",
    "    \"Monthly Journals/2015/April\",\n",
    "    \"Monthly Journals/2015/May\",\n",
    "    \"Monthly Journals/2015/June\",\n",
    "    \"Monthly Journals/2015/July\",\n",
    "    \"Monthly Journals/2015/August\",\n",
    "    \"Monthly Journals/2015/September\",\n",
    "    \"Monthly Journals/2015/October\",\n",
    "    \"Monthly Journals/2015/November\",\n",
    "    \"Monthly Journals/2015/December\",\n",
    "    \"Monthly Journals/2016/January\",\n",
    "    \"Monthly Journals/2016/February\",\n",
    "    \"Monthly Journals/2016/March\",\n",
    "    \"Monthly Journals/2016/April\",\n",
    "    \"Monthly Journals/2016/May\",\n",
    "    \"Monthly Journals/2016/June\",\n",
    "    \"Monthly Journals/2016/July\",\n",
    "    \"Monthly Journals/2016/August\",\n",
    "    \"Monthly Journals/2016/September\",\n",
    "    \"Monthly Journals/2016/October\",\n",
    "    \"Monthly Journals/2016/November\",\n",
    "    \"Monthly Journals/2016/December\",\n",
    "    \"Monthly Journals/2017/January\",\n",
    "    \"Monthly Journals/2017/February\",\n",
    "    \"Monthly Journals/2017/March\",\n",
    "    \"Monthly Journals/2017/April\",\n",
    "    \"Monthly Journals/2017/May\",\n",
    "    \"Monthly Journals/2017/June\",\n",
    "    \"Monthly Journals/2017/July\",\n",
    "    \"Monthly Journals/2017/August\",\n",
    "    \"Monthly Journals/2017/September\",\n",
    "    \"Monthly Journals/2017/October\",\n",
    "    \"Monthly Journals/2017/November\",\n",
    "    \"Monthly Journals/2017/December\",\n",
    "    \"Monthly Journals/2018/January\",\n",
    "    \"Monthly Journals/2018/February\",\n",
    "    \"Monthly Journals/2018/March\",\n",
    "    \"Monthly Journals/2018/April\",\n",
    "    \"Monthly Journals/2018/May\",\n",
    "    \"Monthly Journals/2018/June\",\n",
    "    \"Monthly Journals/2018/July\",\n",
    "    \"Monthly Journals/2018/August\",\n",
    "    \"Monthly Journals/2018/September\",\n",
    "    \"Monthly Journals/2018/October\",\n",
    "    \"Monthly Journals/2018/November\",\n",
    "    \"Monthly Journals/2018/December\",\n",
    "    \"Monthly Journals/2019/January\",\n",
    "    \"Monthly Journals/2019/February\",\n",
    "    \"Monthly Journals/2019/March\",\n",
    "    \"Monthly Journals/2019/April\",\n",
    "    \"Monthly Journals/2019/May\",\n",
    "    \"Monthly Journals/2019/June\",\n",
    "    \"Monthly Journals/2019/July\",\n",
    "    \"Monthly Journals/2019/August\",\n",
    "    \"Monthly Journals/2019/September\",\n",
    "    \"Monthly Journals/2019/October\",\n",
    "    \"Monthly Journals/2019/November\",\n",
    "    \"Monthly Journals/2019/December\",\n",
    "    \"Monthly Journals/2020/January\"\n",
    "]\n",
    "print(len(journals))"
   ]
  },
  {
   "cell_type": "code",
   "execution_count": null,
   "metadata": {},
   "outputs": [],
   "source": [
    "y=\"প্রাণিকল্যাণ আইন, ২০১৯\"\n",
    "for x in y:\n",
    "    print(ord(x))"
   ]
  },
  {
   "cell_type": "code",
   "execution_count": null,
   "metadata": {},
   "outputs": [],
   "source": [
    "string=\"Md. Younus Mia being dead his heirs: Sohel Ahmed and others Vs. Illias Ali Chowdhury being dead his heirs: Mubin Chowdhury 2017 (1) LNJ (AD) 8\"\n",
    "print(len(string))"
   ]
  }
 ],
 "metadata": {
  "kernelspec": {
   "name": "python391jvsc74a57bd077eae0d149ba61c2d600661d89f90b4aa2630fec4556ce7a67e67a981106c5c1",
   "display_name": "Python 3.9.1 64-bit"
  },
  "language_info": {
   "codemirror_mode": {
    "name": "ipython",
    "version": 3
   },
   "file_extension": ".py",
   "mimetype": "text/x-python",
   "name": "python",
   "nbconvert_exporter": "python",
   "pygments_lexer": "ipython3",
   "version": "3.9.1-final"
  },
  "metadata": {
   "interpreter": {
    "hash": "77eae0d149ba61c2d600661d89f90b4aa2630fec4556ce7a67e67a981106c5c1"
   }
  }
 },
 "nbformat": 4,
 "nbformat_minor": 5
}