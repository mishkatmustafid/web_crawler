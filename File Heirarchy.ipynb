{
 "cells": [
  {
   "cell_type": "code",
   "execution_count": null,
   "id": "civil-departure",
   "metadata": {},
   "outputs": [],
   "source": [
    "import requests, time, csv, webbrowser, queue, random, re, os\n",
    "from bs4 import BeautifulSoup\n",
    "from datetime import datetime,date\n",
    "headers = {'User-Agent':'Mozilla/5.0 (Windows NT 10.0; Win64; x64) AppleWebKit/537.36 (KHTML, like Gecko) Chrome/89.0.4389.90 Safari/537.36'}\n",
    "invalid=['<','>','*','\\\\','/',':','?','\\\"','|']"
   ]
  },
  {
   "cell_type": "code",
   "execution_count": null,
   "metadata": {
    "tags": [
     "outputPrepend"
    ]
   },
   "outputs": [],
   "source": [
    "title=\"\"\n",
    "for loc in journals:\n",
    "    with open('lawyer_ci/'+loc+'/files.txt','r',encoding='utf-8') as file:\n",
    "        for line in file:\n",
    "            if('h2' in line):\n",
    "                x=line.find('>')+1\n",
    "                y=line.find('</h2>')\n",
    "                title=line[x:y].strip()\n",
    "                for i in invalid:\n",
    "                    title=title.replace(i,'')\n",
    "            else:\n",
    "                content=str(line)\n",
    "                print(title)\n",
    "                with open('lawyer_ci/'+loc+'/html/'+title+'.html','w',encoding='utf-8') as outfile:\n",
    "                    outfile.write(\"<h2 class=\\\"blog_entry-title\\\">\"+title+\"</h2>\")\n",
    "                    outfile.write(content)"
   ]
  }
 ],
 "metadata": {
  "kernelspec": {
   "name": "python391jvsc74a57bd077eae0d149ba61c2d600661d89f90b4aa2630fec4556ce7a67e67a981106c5c1",
   "display_name": "Python 3.9.1 64-bit"
  },
  "language_info": {
   "codemirror_mode": {
    "name": "ipython",
    "version": 3
   },
   "file_extension": ".py",
   "mimetype": "text/x-python",
   "name": "python",
   "nbconvert_exporter": "python",
   "pygments_lexer": "ipython3",
   "version": "3.9.1-final"
  },
  "metadata": {
   "interpreter": {
    "hash": "77eae0d149ba61c2d600661d89f90b4aa2630fec4556ce7a67e67a981106c5c1"
   }
  }
 },
 "nbformat": 4,
 "nbformat_minor": 5
}