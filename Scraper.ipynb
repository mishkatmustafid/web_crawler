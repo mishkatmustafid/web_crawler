{
 "cells": [
  {
   "cell_type": "markdown",
   "metadata": {},
   "source": [
    "## imports and essentials"
   ]
  },
  {
   "cell_type": "code",
   "execution_count": 6,
   "metadata": {},
   "outputs": [],
   "source": [
    "import requests, time, csv, webbrowser\n",
    "from bs4 import BeautifulSoup\n",
    "from datetime import datetime,date\n",
    "headers = {'User-Agent':'Mozilla/5.0 (Windows NT 10.0; Win64; x64) AppleWebKit/537.36 (KHTML, like Gecko) Chrome/89.0.4389.90 Safari/537.36'}"
   ]
  },
  {
   "cell_type": "markdown",
   "metadata": {},
   "source": [
    "### Attempting to parse into txt file (Successful)"
   ]
  },
  {
   "cell_type": "code",
   "execution_count": 7,
   "metadata": {
    "scrolled": true
   },
   "outputs": [
    {
     "name": "stdout",
     "output_type": "stream",
     "text": [
      "Started at 2021-03-30 16:31:03\n",
      "716 \t717 \t718 \t"
     ]
    },
    {
     "ename": "KeyboardInterrupt",
     "evalue": "",
     "output_type": "error",
     "traceback": [
      "\u001b[1;31m------------------------------------------------------------------------\u001b[0m",
      "\u001b[1;31mKeyboardInterrupt\u001b[0m                      Traceback (most recent call last)",
      "\u001b[1;32m<ipython-input-7-3ff2be0a6aa7>\u001b[0m in \u001b[0;36m<module>\u001b[1;34m\u001b[0m\n\u001b[0;32m     15\u001b[0m         \u001b[0mpage\u001b[0m \u001b[1;33m=\u001b[0m \u001b[0mrequests\u001b[0m\u001b[1;33m.\u001b[0m\u001b[0mget\u001b[0m\u001b[1;33m(\u001b[0m\u001b[0mline\u001b[0m\u001b[1;33m,\u001b[0m\u001b[0mheaders\u001b[0m\u001b[1;33m=\u001b[0m\u001b[0mheaders\u001b[0m\u001b[1;33m)\u001b[0m\u001b[1;33m\u001b[0m\u001b[1;33m\u001b[0m\u001b[0m\n\u001b[0;32m     16\u001b[0m         \u001b[0mwebbrowser\u001b[0m\u001b[1;33m.\u001b[0m\u001b[0mopen\u001b[0m\u001b[1;33m(\u001b[0m\u001b[0mline\u001b[0m\u001b[1;33m)\u001b[0m\u001b[1;33m\u001b[0m\u001b[1;33m\u001b[0m\u001b[0m\n\u001b[1;32m---> 17\u001b[1;33m         \u001b[0mtime\u001b[0m\u001b[1;33m.\u001b[0m\u001b[0msleep\u001b[0m\u001b[1;33m(\u001b[0m\u001b[1;36m6\u001b[0m\u001b[1;33m)\u001b[0m\u001b[1;33m\u001b[0m\u001b[1;33m\u001b[0m\u001b[0m\n\u001b[0m\u001b[0;32m     18\u001b[0m         \u001b[0msoup\u001b[0m \u001b[1;33m=\u001b[0m \u001b[0mBeautifulSoup\u001b[0m\u001b[1;33m(\u001b[0m\u001b[0mpage\u001b[0m\u001b[1;33m.\u001b[0m\u001b[0mcontent\u001b[0m\u001b[1;33m,\u001b[0m \u001b[1;34m'lxml'\u001b[0m\u001b[1;33m)\u001b[0m\u001b[1;33m\u001b[0m\u001b[1;33m\u001b[0m\u001b[0m\n\u001b[0;32m     19\u001b[0m         \u001b[0mtitle\u001b[0m\u001b[1;33m=\u001b[0m\u001b[0msoup\u001b[0m\u001b[1;33m.\u001b[0m\u001b[0mfind\u001b[0m\u001b[1;33m(\u001b[0m\u001b[0mclass_\u001b[0m\u001b[1;33m=\u001b[0m\u001b[1;34m\"blog_entry-title\"\u001b[0m\u001b[1;33m)\u001b[0m\u001b[1;33m\u001b[0m\u001b[1;33m\u001b[0m\u001b[0m\n",
      "\u001b[1;31mKeyboardInterrupt\u001b[0m: "
     ]
    }
   ],
   "source": [
    "sn=1\n",
    "#We use 'c' as both the serial number and the time count for bypassing anti-crawler\n",
    "datentime=str(date.today())\n",
    "datentime+=\" \"\n",
    "datentime+=datetime.now().strftime(\"%H:%M:%S\")\n",
    "print(\"Started at \"+datentime)\n",
    "with open('text_files/case_files.txt','a',encoding=\"utf-8\")as outfile,open('text_files/missed_links.txt','a',encoding=\"utf-8\")as missedfile, open(\"text_files/cases.txt\",\"r\",encoding='utf-8') as infile:\n",
    "#     outfile.write(\"This is a test\\n\")\n",
    "    for line in infile:\n",
    "        if(sn<1):\n",
    "            sn+=1\n",
    "            continue\n",
    "        url=\"\"\n",
    "        for i in line:\n",
    "            if(i!='\\n'):\n",
    "                url+=i\n",
    "        print(\"%d \\t\"%sn,end='')\n",
    "#         if(sn%10==0):time.sleep(61)\n",
    "        page = requests.get(url,headers=headers)\n",
    "        webbrowser.open(line)\n",
    "        time.sleep(6)\n",
    "        soup = BeautifulSoup(page.content, 'lxml')\n",
    "        title=soup.find(class_=\"blog_entry-title\")\n",
    "        y=str(soup.find(class_=\"entry-content\"))\n",
    "        it=1\n",
    "        while('None' in y):\n",
    "            if(it>5):break\n",
    "            time.sleep(6)\n",
    "            soup = BeautifulSoup(page.content, 'lxml')\n",
    "            title=soup.find(class_=\"blog_entry-title\")\n",
    "            y=str(soup.find(class_=\"entry-content\"))\n",
    "            it+=1\n",
    "        content=y.replace('\\n','').replace('\\r\\n','').replace('\\r','')\n",
    "        outfile.write(\"%d\\t%s\\n%s\\n\"%(sn,title,content))\n",
    "        sn+=1\n",
    "        if(sn%10==1):\n",
    "            datentime=str(date.today())\n",
    "            datentime+=\" \"\n",
    "            datentime+=datetime.now().strftime(\"%H:%M:%S\")\n",
    "            print(\"\\n\"+datentime+\"\\n\")\n",
    "        if(sn>1000):break\n",
    "datentime=str(date.today())\n",
    "datentime+=\" \"\n",
    "datentime+=datetime.now().strftime(\"%H:%M:%S\")\n",
    "print(\"\\nDone at \"+datentime)"
   ]
  },
  {
   "cell_type": "markdown",
   "metadata": {},
   "source": [
    "## Main Script"
   ]
  },
  {
   "cell_type": "code",
   "execution_count": null,
   "metadata": {},
   "outputs": [],
   "source": [
    "sn=1\n",
    "#We use 'c' as both the serial number and the time count for bypassing anti-crawler\n",
    "datentime=str(date.today())\n",
    "datentime+=\" \"\n",
    "datentime+=datetime.now().strftime(\"%H:%M:%S\")\n",
    "print(datentime)\n",
    "with open('csv_files/articles.csv','w',encoding=\"utf-8\")as outfile, open(\"text_files/article_links.txt\",\"r\",encoding='utf-8') as infile:\n",
    "    writer=csv.writer(outfile)\n",
    "    writer.writerow([\"SN\",\"Title\", \"Content\"])\n",
    "    for line in infile:\n",
    "        print(\"%d \\t\"%sn,end='')\n",
    "        if(sn%10==0):time.sleep(61)\n",
    "        page = requests.get(line,headers=headers)\n",
    "        soup = BeautifulSoup(page.content, 'lxml')\n",
    "        title=soup.find(class_=\"blog_entry-title\")\n",
    "        y=str(soup.find(class_=\"entry-content\"))\n",
    "        content=y.replace('\\n','').replace('\\r\\n','').replace('\\r','')\n",
    "        writer.writerow([sn,title,content])\n",
    "        sn+=1\n",
    "        if(sn==10):break\n",
    "            \n",
    "datentime=str(date.today())\n",
    "datentime+=\" \"\n",
    "datentime+=datetime.now().strftime(\"%H:%M:%S\")\n",
    "print(\"\\n\"+datentime)\n",
    "\n",
    "# There are newline characters in the articles that were fetched. This causes unorganized csv structure.\n",
    "# We have to find a new for writerow to work without considering newline characters"
   ]
  },
  {
   "cell_type": "markdown",
   "metadata": {},
   "source": [
    "## Development"
   ]
  },
  {
   "cell_type": "code",
   "execution_count": 4,
   "metadata": {},
   "outputs": [
    {
     "name": "stdout",
     "output_type": "stream",
     "text": [
      "<h2 class=\"blog_entry-title\">DEED OF AGREEMENT FOR THE DISSOLUTION OF PARTNERSHIP</h2>\n",
      "<div class=\"entry-content\">\n",
      "<div class=\"featured-thumb\">\n",
      "<a href=\"#\">\n",
      "</a>\n",
      "</div>\n",
      "<div class=\"entry-content\">\n",
      "<p style=\"text-align: justify;\"><strong> </strong></p>\n",
      "<p style=\"text-align: justify;\">This <strong>DEED OF AGREEMENT</strong> is made this _________ day of _____________Two Thousand nine of the Christian Era</p>\n",
      "<p style=\"text-align: justify;\"> <strong><span style=\"text-decoration: underline;\">AMONGST</span></strong></p>\n",
      "<ol start=\"1\" style=\"text-align: justify;\">\n",
      "<li><strong>Md. A</strong>, aged about 50 years, son of Late M, mother: Late N, residence: 32/A, Road No. 2, Dhamnondi R/A, Dhaka, hereinafter referred to as the “FIRST PARTY”, (which expression unless repugnant to the context shall include their successors and assigns) of the One Part.</li>\n",
      "</ol>\n",
      "<p style=\"text-align: justify;\"><strong><span style=\"text-decoration: underline;\">AND</span></strong></p>\n",
      "<ol start=\"2\" style=\"text-align: justify;\">\n",
      "<li><strong>Md. B</strong>, aged about 57 years, son of Late P, mother: Q, of village-Abdar, P.O.-Telihat, Thana-Sripur, District-Gazipur, hereinafter referred to as the “SECOND PARTY”, (which expression unless repugnant to the context shall include their successors and assigns) of the Second Part.</li>\n",
      "</ol>\n",
      "<p style=\"text-align: justify;\"><strong><span style=\"text-decoration: underline;\">AND</span></strong></p>\n",
      "<ol start=\"3\" style=\"text-align: justify;\">\n",
      "<li><strong>Md. C,</strong> aged about 53 years son of late G, mother: Late H, of 56, MM Maley Road, Tanbazar, Thana &amp; District-Narayangonj, hereinafter referred to as the “THIRD PARTY”, (which expression unless repugnant to the context shall include their successors and assigns) of the THIRD Part.</li>\n",
      "</ol>\n",
      "<p style=\"text-align: justify;\">(Party Nos. 1-3 are hereinafter collectively referred to as the “Parties”)</p>\n",
      "<p style=\"text-align: justify;\">WHEREAS, We <strong>(i)</strong> <strong>Md. A,</strong> S/o. Late M, <strong>(ii) Md. B</strong>, S/o. Late A.F.M. Shahadat Hossain &amp; <strong>(iii)</strong> <strong>Md. C</strong>, S/o. Late Md. Sirajul Islam has formed a partnership firm on 07 October 2007 in the name and style of “<strong>M/s.</strong> <strong>X Spinning Mills</strong>” and this partnership firm was duly registered in the RJSC No. PF31883/08 on 27<sup>th</sup> March 2008. As a consequence thereof, all partners proposed for voluntary dissolution of the Firm under the terms and conditions incorporated hereinafter:</p>\n",
      "<p style=\"text-align: justify;\"><strong> NOW THE PARTIES TO THE DEED OF AGREEMENT MUTUALLY AGREE AND BIND THEMSELVES AS FOLLOWS;</strong></p>\n",
      "<p style=\"text-align: justify;\"><strong> </strong>That the Parties were carried out their business under the name &amp; style of <strong>M/s.</strong> <strong>X Spinning Mills</strong>, having its office at House No. 32/A, Road No. 02, Dhanmondi R/A, Dhaka  or in such other place of business as they, the said parties did from time to time mutually agreed upon.</p>\n",
      "<ol start=\"2\" style=\"text-align: justify;\">\n",
      "<li>That the Parties hereby declare, the Partnership firm shall be dissolved by mutual consent of all Partners from the date hereof.</li>\n",
      "</ol>\n",
      "<ol start=\"3\" style=\"text-align: justify;\">\n",
      "<li>That we are making a declaration to the effect that we have made a full inquiry into the affairs of the said firm and that, having so done, we are agreed that, Mr. A present Managing Partner of M/s. X Spinning Mills shall takeover only all the bank liabilities with Dhaka Bank Ltd., B. B. Road Branch, Narayangonj of A/C-M/s. X Spinning Mills. From now onwards, Mr. A will pay all installments and other dues of the loans with Dhaka Bank Ltd. B. B. Road Branch of A/C-M/s. X Spinning Mills.</li>\n",
      "</ol>\n",
      "<ol start=\"4\" style=\"text-align: justify;\">\n",
      "<li>That the FIRST PARTY shall acquire and take-over as a running partnership in the name and style of “<strong>M/s.</strong> <strong>X Spinning Mills</strong>” with the goodwill thereof and for the purpose thereof acquire and take-over all assets of the firm including contractual rights and especially to take-over all the rights of movable and immovable properties.</li>\n",
      "</ol>\n",
      "<ol start=\"5\" style=\"text-align: justify;\">\n",
      "<li>That the SECOND PARTY &amp; THIRD PARTY shall have no right in the proposed company i.e. <strong>Y Spinning and Textile Mills Limited, </strong>which will incorporate by the FIRST PARTY and others.</li>\n",
      "</ol>\n",
      "<ol start=\"6\" style=\"text-align: justify;\">\n",
      "<li>That the Circulation and Notification in the Bangladesh Gazette and a daily newspaper regarding the voluntary dissolution of the firm will be published respectively. For that if any person/persons raise any question or any complain regarding the voluntary dissolution of the firm will be resolved by meeting with the FIRST PARTY.</li>\n",
      "</ol>\n",
      "<ol start=\"7\" style=\"text-align: justify;\">\n",
      "<li>That the Parties shall settle all outstanding whichever is borrowed from the different Bank or Financial Institutions.</li>\n",
      "</ol>\n",
      "<ol start=\"8\" style=\"text-align: justify;\">\n",
      "<li>That the Parties shall resolve other issues amicably and immediately after execution of this Agreement.</li>\n",
      "</ol>\n",
      "<ol start=\"9\" style=\"text-align: justify;\">\n",
      "<li>That this Agreement shall be governed in accordance with the laws of Bangladesh.</li>\n",
      "</ol>\n",
      "<ol start=\"10\" style=\"text-align: justify;\">\n",
      "<li>That the Parties or their heir, successors, co-shares will not make any objection or obstructions regarding the Partnership Firm after executing this Agreement.</li>\n",
      "</ol>\n",
      "<ol start=\"11\" style=\"text-align: justify;\">\n",
      "<li>That all Machinery, fixture, furniture, establishment with all structure would belong to be the proposed Company, i.e. <strong>Y Spinning and Textile Mills Limited.</strong></li>\n",
      "</ol>\n",
      "<ol start=\"12\" style=\"text-align: justify;\">\n",
      "<li>That the SECOND PARTY i.e. Md. B has acquired the (35 + 32 + 23 + 100 + 10.50 =) 200.50 decimals of land through the five different Saf Kabala Deed vide the Saf Kabala Deed No. 10507 dated 18.12.2004, Saf Kabala Deed No. 10508 dated 18.12.2004, Saf Kabala Deed No. 3318 dated 02.04.2002, Saf Kabala Deed No. 658 dated 17.01.2002 and Saf Kabala Deed No. 2216 dated 15.03.2005 all are registered with the office of Shreepur Sub Registry office, Gazipur. Thereafter, said Md. B sold 140.35 decimals of land to the FIRST PARTY &amp; THIRD PARTY through the Saf Kabala Deed No. 8601 dated 07.10.2007 registered with the office of Shreepur Sub Registry office, Gazipur, of which 80.2 decimals of land belongs to Md. A and 60.15 decimals of land belongs to Md. C. The rest of 60.15 decimals of land belongs to the SECOND PARTY i.e. Md. B.</li>\n",
      "</ol>\n",
      "<p style=\"text-align: justify;\">That the SECOND PARTY and THIRD PARTY has agreed to sell all 60.15 decimals of land of second party and 60.15 decimals of land of third party to the proposed Company, i.e. <strong>Y Spinning and Textile Mills Limited,</strong> within the concerned Sub Registry office, within 60 days after the executing of this Agreement.</p>\n",
      "<ol start=\"13\" style=\"text-align: justify;\">\n",
      "<li>All disputes and differences and claims and questions whatsoever which shall either during the continuance of the Agreement or afterwards between the parties hereto or their respective representatives touching these presents, or any account or liability between the parties hereto, or as to any act, deed or omission of any hereto in any way relating to these presents, shall be referred to arbitration of two arbitrators, which to be appointed by each party and a third arbitrator/umpire to be appointed by the mutual consent of the two arbitrators so appointed by the parties. Such arbitration shall be in accordance with and subject to the provisions of the Arbitration Act, 2001.</li>\n",
      "</ol>\n",
      "<ol start=\"14\" style=\"text-align: justify;\">\n",
      "<li>That this Agreement has been executed in 3 (three) original copies, one for each of the Parties, but both of which shall together constitute one and the same instrument</li>\n",
      "</ol>\n",
      "<p style=\"text-align: justify;\"> IN WITNESS WHEREOF THE PARTIES HERETO HAVE SIGNED THIS DEED ON THE DAY AND YEAR FIRST ABOVE WRITTEN.</p>\n",
      "<table border=\"0\" cellpadding=\"0\" cellspacing=\"0\">\n",
      "<tbody>\n",
      "<tr>\n",
      "<td valign=\"top\" width=\"298\"><strong><span style=\"text-decoration: underline;\">Witnesses:</span></strong></td>\n",
      "</tr>\n",
      "</tbody>\n",
      "</table>\n",
      "<p>1. <strong>__________________________</strong></p>\n",
      "<p>2. <strong>__________________________</strong></p>\n",
      "<p><strong>First Party:</strong></p>\n",
      "<p><strong>____________________________</strong></p>\n",
      "<p><strong>(Md. A)</strong></p>\n",
      "<p><strong>Second Party</strong>:</p>\n",
      "<p><strong>_________________________</strong></p>\n",
      "<p><strong>(Md. B)<br/>\n",
      "</strong></p>\n",
      "<p><strong>Third Party</strong>:</p>\n",
      "<p><strong>_________________________</strong></p>\n",
      "<p><strong>(Md. C)</strong></p>\n",
      "<p>Drafted by:</p>\n",
      "<p>For: “<strong>The Lawyers &amp; Jurists”</strong></p>\n",
      "<p>Hotel Royal Tower (1<sup>st</sup> Floor)</p>\n",
      "<p>208, Shahid Sayed Nazrul Sarani</p>\n",
      "<p>Bijoynagar, Dhaka-1000</p>\n",
      "<p> </p>\n",
      "<p style=\"text-align: justify;\">\n",
      "</p></div>\n",
      "</div>\n"
     ]
    }
   ],
   "source": [
    "page = requests.get(\"https://www.lawyersnjurists.com/doclit/deed-agreement-dissolution-partnership/\",headers=headers)\n",
    "soup = BeautifulSoup(page.content, 'lxml')\n",
    "# print(BeautifulSoup(soup.body,\"html.parser\").prettify())\n",
    "x=soup.find(class_=\"blog_entry-title\")\n",
    "y=soup.find(class_=\"entry-content\")\n",
    "print(x)\n",
    "print(y)"
   ]
  },
  {
   "cell_type": "code",
   "execution_count": null,
   "metadata": {},
   "outputs": [],
   "source": [
    "with open('csv_files/articles.csv', 'w') as file:\n",
    "    writer = csv.writer(file)\n",
    "    writer.writerow([\"SN\",\"Title\", \"Content\"])\n",
    "    writer.writerow([1, x,y])"
   ]
  },
  {
   "cell_type": "code",
   "execution_count": null,
   "metadata": {},
   "outputs": [],
   "source": [
    "c=1\n",
    "s=\"Test\"\n",
    "with open('csv_files/list.csv','w')as out, open(\"text_files/test.txt\",\"r\") as f:\n",
    "    writer=csv.writer(out)\n",
    "    writer.writerow([\"SN\",\"Title\", \"Content\"])\n",
    "    for line in f:\n",
    "        writer.writerow([c,s,line.splitlines()])\n",
    "        c+=1"
   ]
  }
 ],
 "metadata": {
  "kernelspec": {
   "display_name": "Python 3",
   "language": "python",
   "name": "python3"
  },
  "language_info": {
   "codemirror_mode": {
    "name": "ipython",
    "version": 3
   },
   "file_extension": ".py",
   "mimetype": "text/x-python",
   "name": "python",
   "nbconvert_exporter": "python",
   "pygments_lexer": "ipython3",
   "version": "3.8.5"
  }
 },
 "nbformat": 4,
 "nbformat_minor": 5
}
