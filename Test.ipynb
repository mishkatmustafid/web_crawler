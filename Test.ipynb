{
 "cells": [
  {
   "cell_type": "code",
   "execution_count": null,
   "id": "another-testimony",
   "metadata": {},
   "outputs": [],
   "source": [
    "import requests, time, csv, webbrowser, queue, random, re, os\n",
    "from bs4 import BeautifulSoup\n",
    "from datetime import datetime,date\n",
    "headers = {'User-Agent':'Mozilla/5.0 (Windows NT 10.0; Win64; x64) AppleWebKit/537.36 (KHTML, like Gecko) Chrome/89.0.4389.90 Safari/537.36'}\n",
    "invalid=['<','>','*','\\\\','/',':','?','\\\"','|']"
   ]
  },
  {
   "cell_type": "code",
   "execution_count": null,
   "metadata": {
    "tags": []
   },
   "outputs": [],
   "source": [
    "tr=1\n",
    "with open('text_files/litigation_links.txt','a',encoding='utf-8')as file:\n",
    "    while(urls!=[]):\n",
    "        url=urls.pop(0)\n",
    "        # s=url[-3:]\n",
    "        # if(s[1]=='/'):tr=s[-1:]\n",
    "        # elif(s[0]=='/'): tr=s[-2:]\n",
    "        page = requests.get(url,headers=headers)\n",
    "        if(page.status_code!=200):\n",
    "            urls.append(url)\n",
    "            print(\"%d %s %d\"%(page.status_code, tr, len(urls)))\n",
    "            continue\n",
    "        print(\"%d %s %d\"%(page.status_code, tr, len(urls)))\n",
    "        soup = BeautifulSoup(page.content, 'lxml')\n",
    "        y=str(soup)\n",
    "        i=y.find(\"href=\\\"\")+6\n",
    "        c=0\n",
    "        while(True):\n",
    "            c+=1\n",
    "            j=y[i:].find('\\\"')+i\n",
    "            if('doclit' in y[i:j]):file.write(\"%s\\n\"%y[i:j])\n",
    "            if(y.find(\"href=\\\"\",i)==-1):break\n",
    "            i=y.find(\"href=\\\"\",i)+6\n",
    "        file.write(\"Done %d\\n\"%c)\n",
    "        # content=y.replace('\\n','').replace('\\r\\n','').replace('\\r','')\n",
    "        # file.write(\"%s\\n\"%content)\n",
    "        # print(\"%s \\t\"%url)\n"
   ]
  },
  {
   "cell_type": "code",
   "execution_count": null,
   "id": "abroad-translation",
   "metadata": {},
   "outputs": [],
   "source": [
    "url=\"http://bdlaws.minlaw.gov.bd/act-details-\"\n",
    "i=1\n",
    "ext=\".html\"\n",
    "for i in range(1,2000):\n",
    "    page = requests.get(url+str(i)+ext,headers=headers)\n",
    "    soup = BeautifulSoup(page.content, 'lxml')\n",
    "    if(\"404 Not Found\" in str(soup)):print(\"404\")\n",
    "    else: print(\"200\")\n",
    "    # x=soup.find(class_=\"service-list\")\n",
    "#     print(str(soup))"
   ]
  },
  {
   "cell_type": "code",
   "execution_count": null,
   "metadata": {
    "tags": [
     "outputPrepend"
    ]
   },
   "outputs": [],
   "source": [
    "with open('text_files/legal_opinion_links.txt','r') as file:\n",
    "    for line in file:\n",
    "        s=\"\"\n",
    "        for i in line:\n",
    "            if(i!='\\n'):s+=i\n",
    "        print(\"\\\"\"+s+\"\\\",\")"
   ]
  },
  {
   "cell_type": "code",
   "execution_count": 6,
   "metadata": {},
   "outputs": [
    {
     "output_type": "stream",
     "name": "stdout",
     "text": [
      "24\n"
     ]
    }
   ],
   "source": [
    "sample=\"lawyer_ci/Documentation/\"\n",
    "print(len(sample))"
   ]
  },
  {
   "cell_type": "code",
   "execution_count": 25,
   "metadata": {},
   "outputs": [
    {
     "output_type": "stream",
     "name": "stdout",
     "text": [
      "AC\n"
     ]
    }
   ],
   "source": [
    "sn='AB'\n",
    "sn=sn[0]+chr(ord(sn[1])+1)\n",
    "print(sn)"
   ]
  }
 ],
 "metadata": {
  "kernelspec": {
   "name": "python392jvsc74a57bd0ac59ebe37160ed0dfa835113d9b8498d9f09ceb179beaac4002f036b9467c963",
   "display_name": "Python 3.9.2 64-bit"
  },
  "language_info": {
   "codemirror_mode": {
    "name": "ipython",
    "version": 3
   },
   "file_extension": ".py",
   "mimetype": "text/x-python",
   "name": "python",
   "nbconvert_exporter": "python",
   "pygments_lexer": "ipython3",
   "version": "3.9.2-final"
  },
  "metadata": {
   "interpreter": {
    "hash": "ac59ebe37160ed0dfa835113d9b8498d9f09ceb179beaac4002f036b9467c963"
   }
  }
 },
 "nbformat": 4,
 "nbformat_minor": 5
}