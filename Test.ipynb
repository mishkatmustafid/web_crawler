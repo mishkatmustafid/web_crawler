{
 "cells": [
  {
   "cell_type": "code",
   "execution_count": 2,
   "metadata": {},
   "outputs": [],
   "source": [
    "urls = []\n",
    "# with open(\"text_files/test.txt\",\"r\") as inputf:\n",
    "#     for line in inputf:\n",
    "#         urls.append(line)\n",
    "urls.append(\"https://www.lawyersnjurists.com/articlecat/bank-and-financial-institutes/\")"
   ]
  },
  {
   "cell_type": "code",
   "execution_count": 7,
   "metadata": {},
   "outputs": [],
   "source": [
    "import requests\n",
    "from bs4 import BeautifulSoup"
   ]
  },
  {
   "cell_type": "code",
   "execution_count": 3,
   "metadata": {},
   "outputs": [
    {
     "name": "stdout",
     "output_type": "stream",
     "text": [
      "['https://www.lawyersnjurists.com/articlecat/bank-and-financial-institutes/']\n"
     ]
    }
   ],
   "source": [
    "print(urls)"
   ]
  },
  {
   "cell_type": "code",
   "execution_count": null,
   "metadata": {},
   "outputs": [],
   "source": [
    "now = datetime.now()\n",
    "class timestamp:\n",
    "    def __init__(self):\n",
    "        \n",
    "    def now():\n",
    "    __str__:\n",
    "        return \"Hello\"\n",
    "print(now)"
   ]
  },
  {
   "cell_type": "code",
   "execution_count": 27,
   "metadata": {},
   "outputs": [
    {
     "name": "stdout",
     "output_type": "stream",
     "text": [
      "<div class=\"jtv-title\" style=\"padding-bottom:20px;\">\n",
      "<h2>Bank and financial institutes</h2>\n",
      "Showing 10 posts out of 674                <div class=\"devider-title\" style=\"margin-bottom:30px;\"><span>0</span></div>\n",
      "</div>\n"
     ]
    }
   ],
   "source": [
    "headers = {'User-Agent':'Mozilla/5.0 (Windows NT 10.0; Win64; x64) AppleWebKit/537.36 (KHTML, like Gecko) Chrome/88.0.4324.190 Safari/537.36'}\n",
    "for url in urls:\n",
    "    page = requests.get(url,headers=headers)\n",
    "    soup = BeautifulSoup(page.content, 'lxml')\n",
    "    x=soup.find(class_=\"jtv-title\")\n",
    "    print(str(x))"
   ]
  },
  {
   "cell_type": "code",
   "execution_count": 42,
   "metadata": {},
   "outputs": [
    {
     "name": "stdout",
     "output_type": "stream",
     "text": [
      "54\n",
      "<class 'int'>\n"
     ]
    }
   ],
   "source": [
    "y=str(x)\n",
    "s=\"\"\n",
    "i=y.find(\"</h2>\")\n",
    "print(ord(y[i+30]))\n",
    "for c in y[i+30:]:\n",
    "    if(c=='<'):break\n",
    "    if(ord(c)<58 and ord(c)>47):s+=c\n",
    "s=int(s)\n",
    "print(type(s))"
   ]
  },
  {
   "cell_type": "code",
   "execution_count": 37,
   "metadata": {},
   "outputs": [
    {
     "name": "stdout",
     "output_type": "stream",
     "text": [
      "32\n",
      "\u0003\n"
     ]
    }
   ],
   "source": [
    "i=\" ello world\"\n",
    "print(ord(i[0]))\n",
    "print(chr(3))"
   ]
  }
 ],
 "metadata": {
  "kernelspec": {
   "display_name": "Python 3",
   "language": "python",
   "name": "python3"
  },
  "language_info": {
   "codemirror_mode": {
    "name": "ipython",
    "version": 3
   },
   "file_extension": ".py",
   "mimetype": "text/x-python",
   "name": "python",
   "nbconvert_exporter": "python",
   "pygments_lexer": "ipython3",
   "version": "3.8.5"
  }
 },
 "nbformat": 4,
 "nbformat_minor": 5
}
