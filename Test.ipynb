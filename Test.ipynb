{
 "cells": [
  {
   "cell_type": "code",
   "execution_count": 6,
   "id": "another-testimony",
   "metadata": {},
   "outputs": [],
   "source": [
    "import requests, random\n",
    "from bs4 import BeautifulSoup\n",
    "import re\n",
    "import time\n",
    "headers = {'User-Agent':'Mozilla/5.0 (Windows NT 10.0; Win64; x64) AppleWebKit/537.36 (KHTML, like Gecko) Chrome/88.0.4324.190 Safari/537.36'}"
   ]
  },
  {
   "cell_type": "code",
   "execution_count": null,
   "id": "possible-appointment",
   "metadata": {},
   "outputs": [],
   "source": [
    "urls = []\n",
    "# with open(\"text_files/test.txt\",\"r\") as inputf:\n",
    "#     for line in inputf:\n",
    "#         urls.append(line)\n",
    "urls.append(\"https://www.lawyersnjurists.com/articlecat/bank-and-financial-institutes/\")\n",
    "url=\"https://www.lawyersnjurists.com/articlecat/bank-and-financial-institutes/\"\n",
    "for i in range(2,69):\n",
    "    link=url+'page/'+str(i)\n",
    "    urls.append(link)\n",
    "for i in urls:\n",
    "    print(i)"
   ]
  },
  {
   "cell_type": "code",
   "execution_count": 7,
   "metadata": {
    "tags": []
   },
   "outputs": [
    {
     "output_type": "stream",
     "name": "stdout",
     "text": [
      "200\n",
      "https://www.lawyersnjurists.com/articlecat/bank-and-financial-institutes/ \t\n",
      "200\n",
      "https://www.lawyersnjurists.com/articlecat/bank-and-financial-institutes/page/2 \t\n",
      "200\n",
      "https://www.lawyersnjurists.com/articlecat/bank-and-financial-institutes/page/3 \t\n",
      "200\n",
      "https://www.lawyersnjurists.com/articlecat/bank-and-financial-institutes/page/4 \t\n",
      "200\n",
      "https://www.lawyersnjurists.com/articlecat/bank-and-financial-institutes/page/5 \t\n",
      "403\n"
     ]
    },
    {
     "output_type": "error",
     "ename": "TypeError",
     "evalue": "'module' object is not callable",
     "traceback": [
      "\u001b[1;31m---------------------------------------------------------------------------\u001b[0m",
      "\u001b[1;31mTypeError\u001b[0m                                 Traceback (most recent call last)",
      "\u001b[1;32m<ipython-input-7-38fdce157327>\u001b[0m in \u001b[0;36m<module>\u001b[1;34m\u001b[0m\n\u001b[0;32m      5\u001b[0m         \u001b[0mprint\u001b[0m\u001b[1;33m(\u001b[0m\u001b[0mpage\u001b[0m\u001b[1;33m.\u001b[0m\u001b[0mstatus_code\u001b[0m\u001b[1;33m)\u001b[0m\u001b[1;33m\u001b[0m\u001b[1;33m\u001b[0m\u001b[0m\n\u001b[0;32m      6\u001b[0m         \u001b[1;32mif\u001b[0m\u001b[1;33m(\u001b[0m\u001b[0mpage\u001b[0m\u001b[1;33m.\u001b[0m\u001b[0mstatus_code\u001b[0m\u001b[1;33m!=\u001b[0m\u001b[1;36m200\u001b[0m\u001b[1;33m)\u001b[0m\u001b[1;33m:\u001b[0m\u001b[1;33m\u001b[0m\u001b[1;33m\u001b[0m\u001b[0m\n\u001b[1;32m----> 7\u001b[1;33m             \u001b[0murl\u001b[0m\u001b[1;33m+=\u001b[0m\u001b[1;34m'?sfw=pass16'\u001b[0m\u001b[1;33m+\u001b[0m\u001b[0mstr\u001b[0m\u001b[1;33m(\u001b[0m\u001b[0mrandom\u001b[0m\u001b[1;33m(\u001b[0m\u001b[1;36m8\u001b[0m\u001b[1;33m)\u001b[0m\u001b[1;33m)\u001b[0m\u001b[1;33m\u001b[0m\u001b[1;33m\u001b[0m\u001b[0m\n\u001b[0m\u001b[0;32m      8\u001b[0m             \u001b[0mpage\u001b[0m \u001b[1;33m=\u001b[0m \u001b[0mrequests\u001b[0m\u001b[1;33m.\u001b[0m\u001b[0mget\u001b[0m\u001b[1;33m(\u001b[0m\u001b[0murl\u001b[0m\u001b[1;33m,\u001b[0m\u001b[0mheaders\u001b[0m\u001b[1;33m=\u001b[0m\u001b[0mheaders\u001b[0m\u001b[1;33m)\u001b[0m\u001b[1;33m\u001b[0m\u001b[1;33m\u001b[0m\u001b[0m\n\u001b[0;32m      9\u001b[0m         \u001b[0my\u001b[0m\u001b[1;33m=\u001b[0m\u001b[0mstr\u001b[0m\u001b[1;33m(\u001b[0m\u001b[0msoup\u001b[0m\u001b[1;33m)\u001b[0m\u001b[1;33m\u001b[0m\u001b[1;33m\u001b[0m\u001b[0m\n",
      "\u001b[1;31mTypeError\u001b[0m: 'module' object is not callable"
     ]
    }
   ],
   "source": [
    "with open('text_files/bank_pages.txt','w',encoding='utf-8')as file:\n",
    "    for url in urls:\n",
    "        page = requests.get(url,headers=headers)\n",
    "        soup = BeautifulSoup(page.content, 'lxml')\n",
    "        print(page.status_code)\n",
    "        if(page.status_code!=200):\n",
    "            url+='?sfw=pass16'+str(random(8))\n",
    "            page = requests.get(url,headers=headers)\n",
    "        y=str(soup)\n",
    "        content=y.replace('\\n','').replace('\\r\\n','').replace('\\r','')\n",
    "        file.write(\"%s\\n\"%content)\n",
    "        print(\"%s \\t\"%url)\n"
   ]
  },
  {
   "cell_type": "code",
   "execution_count": null,
   "id": "liked-phoenix",
   "metadata": {},
   "outputs": [],
   "source": [
    "print(urls)"
   ]
  },
  {
   "cell_type": "code",
   "execution_count": null,
   "id": "static-front",
   "metadata": {},
   "outputs": [],
   "source": [
    "now = datetime.now()\n",
    "class timestamp:\n",
    "    def __init__(self):\n",
    "        \n",
    "    def now():\n",
    "    __str__:\n",
    "        return \"Hello\"\n",
    "print(now)"
   ]
  },
  {
   "cell_type": "code",
   "execution_count": null,
   "id": "fifty-trauma",
   "metadata": {},
   "outputs": [],
   "source": [
    "for url in urls:\n",
    "    page = requests.get(url,headers=headers)\n",
    "    soup = BeautifulSoup(page.content, 'lxml')\n",
    "    x=soup.find(class_=\"jtv-title\")\n",
    "    print(str(x))"
   ]
  },
  {
   "cell_type": "code",
   "execution_count": null,
   "id": "abroad-translation",
   "metadata": {},
   "outputs": [],
   "source": [
    "url=\"http://bdlaws.minlaw.gov.bd/act-details-\"\n",
    "i=1\n",
    "ext=\".html\"\n",
    "for i in range(1,2000):\n",
    "    page = requests.get(url+str(i)+ext,headers=headers)\n",
    "    soup = BeautifulSoup(page.content, 'lxml')\n",
    "    if(\"404 Not Found\" in str(soup)):print(\"404\")\n",
    "    else: print(\"200\")\n",
    "    # x=soup.find(class_=\"service-list\")\n",
    "#     print(str(soup))"
   ]
  },
  {
   "cell_type": "code",
   "execution_count": null,
   "id": "smart-plymouth",
   "metadata": {},
   "outputs": [],
   "source": [
    "y=str(x)\n",
    "s=\"\"\n",
    "i=y.find(\"</h2>\")\n",
    "print(ord(y[i+30]))\n",
    "for c in y[i+30:]:\n",
    "    if(c=='<'):break\n",
    "    if(ord(c)<58 and ord(c)>47):s+=c\n",
    "s=int(s)\n",
    "print(type(s))"
   ]
  },
  {
   "cell_type": "code",
   "execution_count": null,
   "id": "friendly-algebra",
   "metadata": {},
   "outputs": [],
   "source": [
    "# url = \"https://www.lawyersnjurists.com/sitemap.xml\"\n",
    "# page=requests.get(url,headers=headers)\n",
    "file=open('sitemaps/post-sitemap.htm','r')\n",
    "page=file.read()\n",
    "s=\"\"\n",
    "ls=[]\n",
    "flag=False\n",
    "for i in page:\n",
    "    if(i=='\\\"'):flag= not flag\n",
    "    if(flag):\n",
    "        s+=i\n",
    "    \n",
    "# soup=BeautifulSoup(file.content,'xml')\n",
    "# print(soup)"
   ]
  },
  {
   "cell_type": "code",
   "execution_count": null,
   "id": "modified-blink",
   "metadata": {},
   "outputs": [],
   "source": [
    "urls=[\n",
    "    \"https://www.lawyersnjurists.com/lawyer_ci/journal/abdul-quader-mollah-vs-the-chief-prosecutor-international-crimes-tribunal--3-lnj-ad-2014-121\",\n",
    "    \"https://www.lawyersnjurists.com/lawyer_ci/journal/abul-kalam-vs-the-state-3-lnj-2014-750\",\n",
    "    \"https://www.lawyersnjurists.com/lawyer_ci/journal/mehedi-hasan-alias-rasel-vs-the-state-3-lnj-2014-766\",\n",
    "    \"https://www.lawyersnjurists.com/lawyer_ci/journal/moulvi-serajuddin-ahmed-vs-idris-ali-and-others-3-lnj-2014-735\",\n",
    "    \"https://www.lawyersnjurists.com/lawyer_ci/journal/sumon-miah--suman-and-others-vs-the-state-3-lnj-2014-783\",\n",
    "    \"https://www.lawyersnjurists.com/lawyer_ci/journal/the-state-vs-shym-dulal-debnath-and-another-3-lnj-2014-758\",\n",
    "    \"https://www.lawyersnjurists.com/lawyer_ci/journal/the-state-vs-sujon-deb-and-others-3-lnj-2014-737\"\n",
    "]\n",
    "c=0\n",
    "sn=252\n",
    "with open('lawyer_ci/Monthly Journals/2014/October/files.txt','w',encoding='utf-8')as file:\n",
    "    for url in urls:\n",
    "        # c+=1\n",
    "        # print(c,end='')\n",
    "        # page = requests.get(url,headers=headers)\n",
    "        # soup = BeautifulSoup(page.content, 'xml')\n",
    "        # x=soup.find_all('loc')\n",
    "        # file.write(str(x)+'\\n')\n",
    "        # print(\" Done\")\n",
    "        # if(c==9):time.sleep(60)\n",
    "        print(\"%d \\t\"%sn,end='')\n",
    "        page = requests.get(url,headers=headers)\n",
    "        soup = BeautifulSoup(page.content, 'lxml')\n",
    "        title=soup.find(class_=\"blog_entry-title\")\n",
    "        y=str(soup.find(class_=\"entry-content\"))\n",
    "        it=1\n",
    "        while('None' in y):\n",
    "            if(it>5):break\n",
    "            page = requests.get(url,headers=headers)\n",
    "            soup = BeautifulSoup(page.content, 'lxml')\n",
    "            title=soup.find(class_=\"blog_entry-title\")\n",
    "            y=str(soup.find(class_=\"entry-content\"))\n",
    "            it+=1\n",
    "        content=y.replace('\\n','').replace('\\r\\n','').replace('\\r','')\n",
    "        file.write(\"%d\\t%s\\n%s\\n\"%(sn,title,content))\n",
    "        sn+=1"
   ]
  },
  {
   "cell_type": "code",
   "execution_count": null,
   "id": "nearby-poison",
   "metadata": {},
   "outputs": [],
   "source": [
    "x=soup.find_all('loc')\n",
    "s=str(x)\n",
    "print(s[66990:67010])"
   ]
  },
  {
   "cell_type": "code",
   "execution_count": null,
   "id": "private-demographic",
   "metadata": {},
   "outputs": [],
   "source": [
    "s=str(soup)\n",
    "i=0\n",
    "# while(i<len(s)):\n",
    "#     x=s[i:].find(\"https\")\n",
    "#     print(x)\n",
    "#     i+=x+5\n",
    "c=0\n",
    "for m in re.finditer('https',s):\n",
    "    c+=1\n",
    "print(c)"
   ]
  },
  {
   "cell_type": "code",
   "execution_count": null,
   "id": "advance-schema",
   "metadata": {},
   "outputs": [],
   "source": [
    "# i=0\n",
    "# while(i<len(s)):\n",
    "#     print(i)\n",
    "#     i+=1\n",
    "filename=\"test.txt\"\n",
    "with open(\"text_files/\"+filename, 'w')as file:\n",
    "    file.write(\"this is the 2nd test\")"
   ]
  },
  {
   "cell_type": "code",
   "execution_count": null,
   "id": "literary-syracuse",
   "metadata": {},
   "outputs": [],
   "source": [
    "s=\"Done\"\n",
    "print(\"Done\")\n",
    "print(\"\\n\"+s,end='')\n",
    "from goto import goto, comefrom, label"
   ]
  },
  {
   "cell_type": "code",
   "execution_count": null,
   "id": "surprised-height",
   "metadata": {},
   "outputs": [],
   "source": [
    "async def func(x):\n",
    "    print(\"Starting \"+x+\"\\n\")\n",
    "    await asyncio.sleep(1)\n",
    "    print(\"Done \"+x)\n",
    "\n",
    "async def main():\n",
    "    x=input()\n",
    "    await func(x)\n",
    "    print(\"main\")\n",
    "main()"
   ]
  }
 ],
 "metadata": {
  "kernelspec": {
   "name": "python392jvsc74a57bd0ac59ebe37160ed0dfa835113d9b8498d9f09ceb179beaac4002f036b9467c963",
   "display_name": "Python 3.9.2 64-bit"
  },
  "language_info": {
   "codemirror_mode": {
    "name": "ipython",
    "version": 3
   },
   "file_extension": ".py",
   "mimetype": "text/x-python",
   "name": "python",
   "nbconvert_exporter": "python",
   "pygments_lexer": "ipython3",
   "version": "3.9.2-final"
  },
  "metadata": {
   "interpreter": {
    "hash": "ac59ebe37160ed0dfa835113d9b8498d9f09ceb179beaac4002f036b9467c963"
   }
  }
 },
 "nbformat": 4,
 "nbformat_minor": 5
}