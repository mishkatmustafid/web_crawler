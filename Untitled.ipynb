{
 "cells": [
  {
   "cell_type": "code",
   "execution_count": 1,
   "id": "supreme-distribution",
   "metadata": {},
   "outputs": [],
   "source": [
    "from bs4 import BeautifulSoup \n",
    "import requests.exceptions \n",
    "from urllib.parse import urlsplit \n",
    "from urllib.parse import urlparse \n",
    "from collections import deque"
   ]
  },
  {
   "cell_type": "code",
   "execution_count": 2,
   "id": "potential-heath",
   "metadata": {},
   "outputs": [],
   "source": [
    "urls = [\"https://www.lawyersnjurists.com/articlecat/bank-and-financial-institutes/\",\n",
    "        \"https://www.lawyersnjurists.com/articlecat/business/\",\n",
    "        \"https://www.lawyersnjurists.com/articlecat/environment-and-geography/\",\n",
    "        \"https://www.lawyersnjurists.com/articlecat/garments-and-textile/\",\n",
    "        \"https://www.lawyersnjurists.com/articlecat/general-health-and-medical-science/\",\n",
    "        \"https://www.lawyersnjurists.com/articlecat/hotel-and-tourism/\",\n",
    "        \"https://www.lawyersnjurists.com/articlecat/human-resource-and-managment/\",\n",
    "        \"https://www.lawyersnjurists.com/articlecat/it-and-software/\",\n",
    "        \"https://www.lawyersnjurists.com/articlecat/law-and-ethics/\",\n",
    "        \"https://www.lawyersnjurists.com/articlecat/real-estate/\",\n",
    "        \"https://www.lawyersnjurists.com/articlecat/reports-on-ngo/\",\n",
    "        \"https://www.lawyersnjurists.com/articlecat/science-and-technology/\",\n",
    "        \"https://www.lawyersnjurists.com/articlecat/social-and-political-science/\",\n",
    "        \"https://www.lawyersnjurists.com/articlecat/telecommunication/\",\n",
    "        \"https://www.lawyersnjurists.com/articles-and-reports\"]\n",
    "headers = {'User-Agent':'Mozilla/5.0 (Windows NT 10.0; Win64; x64) AppleWebKit/537.36 (KHTML, like Gecko) Chrome/88.0.4324.190 Safari/537.36'}\n",
    "# url = \"https://www.lawyersnjurists.com/\"\n",
    "\n",
    "# a queue of urls to be crawled next\n",
    "new_urls = deque(urls)\n",
    "\n",
    "# a set of urls that we have already processed\n",
    "processed_urls = set()\n",
    "\n",
    "# a set of domains inside the target website\n",
    "local_urls = set()\n",
    "\n",
    "# a set of domains outside the target website\n",
    "foreign_urls = set()\n",
    "\n",
    "# a set of broken urls\n",
    "broken_urls = set()"
   ]
  },
  {
   "cell_type": "code",
   "execution_count": 1,
   "id": "expired-albuquerque",
   "metadata": {},
   "outputs": [
    {
     "ename": "NameError",
     "evalue": "name 'new_urls' is not defined",
     "output_type": "error",
     "traceback": [
      "\u001b[1;31m---------------------------------------------------------------------------\u001b[0m",
      "\u001b[1;31mNameError\u001b[0m                                 Traceback (most recent call last)",
      "\u001b[1;32m<ipython-input-1-0ae42d12b26d>\u001b[0m in \u001b[0;36m<module>\u001b[1;34m\u001b[0m\n\u001b[0;32m      1\u001b[0m \u001b[1;31m# process urls one by one until we exhaust the queue\u001b[0m\u001b[1;33m\u001b[0m\u001b[1;33m\u001b[0m\u001b[1;33m\u001b[0m\u001b[0m\n\u001b[1;32m----> 2\u001b[1;33m \u001b[1;32mwhile\u001b[0m \u001b[0mlen\u001b[0m\u001b[1;33m(\u001b[0m\u001b[0mnew_urls\u001b[0m\u001b[1;33m)\u001b[0m\u001b[1;33m:\u001b[0m\u001b[1;33m\u001b[0m\u001b[1;33m\u001b[0m\u001b[0m\n\u001b[0m\u001b[0;32m      3\u001b[0m     \u001b[1;31m# move url from the queue to processed url set\u001b[0m\u001b[1;33m\u001b[0m\u001b[1;33m\u001b[0m\u001b[1;33m\u001b[0m\u001b[0m\n\u001b[0;32m      4\u001b[0m     \u001b[0murl\u001b[0m \u001b[1;33m=\u001b[0m \u001b[0mnew_urls\u001b[0m\u001b[1;33m.\u001b[0m\u001b[0mpopleft\u001b[0m\u001b[1;33m(\u001b[0m\u001b[1;33m)\u001b[0m\u001b[1;33m\u001b[0m\u001b[1;33m\u001b[0m\u001b[0m\n\u001b[0;32m      5\u001b[0m     \u001b[0mprocessed_urls\u001b[0m\u001b[1;33m.\u001b[0m\u001b[0madd\u001b[0m\u001b[1;33m(\u001b[0m\u001b[0murl\u001b[0m\u001b[1;33m)\u001b[0m\u001b[1;33m\u001b[0m\u001b[1;33m\u001b[0m\u001b[0m\n",
      "\u001b[1;31mNameError\u001b[0m: name 'new_urls' is not defined"
     ]
    }
   ],
   "source": [
    "# process urls one by one until we exhaust the queue\n",
    "while len(new_urls):\n",
    "    # move url from the queue to processed url set\n",
    "    url = new_urls.popleft()\n",
    "    processed_urls.add(url)\n",
    "    # print the current url\n",
    "    print(url)\n",
    "    \n",
    "    # catching any broken web pages and add them to the broken_urls set for later use\n",
    "    try: \n",
    "        response = requests.get(url,headers=headers)\n",
    "    except(requests.exceptions.MissingSchema, requests.exceptions.ConnectionError, requests.exceptions.InvalidSchema):\n",
    "        # add broken urls to it's own set, then continue\n",
    "        broken_urls.add(url)\n",
    "        continue\n",
    "        \n",
    "        \n",
    "    # extract base urlto resolve relative links\n",
    "    parts = urlsplit(url)\n",
    "    base = \"{0.netloc}\".format(parts)\n",
    "    strip_base = base.replace(\"www.\",\"\")\n",
    "    base_url = \"{0.scheme}://{0.netloc}\".format(parts)\n",
    "    path = url[:url.rfind('/')+1] if '/' in parts.path else url\n",
    "    \n",
    "    \n",
    "    soup = BeautifulSoup(response.text, \"lxml\")\n",
    "    for link in soup.find_all('a'):\n",
    "        # extract link url from the anchor\n",
    "        anchor = link.attrs[\"href\"] if \"href\" in link.attrs else ''\n",
    "        if anchor.startswith('/'):\n",
    "            local_link = base_url + anchor\n",
    "            local_urls.add(local_link)\n",
    "        elif strip_base in anchor:\n",
    "            local_urls.add(anchor)\n",
    "        elif not anchor.startswith('http'):\n",
    "            local_link = path + anchor\n",
    "            local_urls.add(local_link)\n",
    "        else: foreign_urls.add(anchor)\n",
    "    \n",
    "    \n",
    "    for i in local_urls:\n",
    "        if not i in new_urls and not i in processed_urls:\n",
    "            new_urls.append(i)"
   ]
  },
  {
   "cell_type": "code",
   "execution_count": null,
   "id": "authentic-chapel",
   "metadata": {},
   "outputs": [],
   "source": [
    "article_urls=[]\n",
    "for i in processed_urls:\n",
    "    if \"https://www.lawyersnjurists.com/article/\" in i:\n",
    "        article_urls.append(i)\n",
    "for i in article_urls:\n",
    "    print(i)"
   ]
  }
 ],
 "metadata": {
  "kernelspec": {
   "display_name": "Python 3",
   "language": "python",
   "name": "python3"
  },
  "language_info": {
   "codemirror_mode": {
    "name": "ipython",
    "version": 3
   },
   "file_extension": ".py",
   "mimetype": "text/x-python",
   "name": "python",
   "nbconvert_exporter": "python",
   "pygments_lexer": "ipython3",
   "version": "3.9.2"
  }
 },
 "nbformat": 4,
 "nbformat_minor": 5
}
